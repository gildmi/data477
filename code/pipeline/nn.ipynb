{
 "cells": [
  {
   "cell_type": "markdown",
   "id": "d7dbe632",
   "metadata": {},
   "source": [
    "# Neural Networks\n",
    "## ![sklearn](https://upload.wikimedia.org/wikipedia/commons/thumb/0/05/Scikit_learn_logo_small.svg/1200px-Scikit_learn_logo_small.svg.png)"
   ]
  },
  {
   "cell_type": "code",
   "execution_count": 10,
   "id": "1b873595",
   "metadata": {},
   "outputs": [],
   "source": [
    "# Imports\n",
    "import matplotlib.pyplot as plt\n",
    "from sklearn.datasets import fetch_openml\n",
    "from sklearn.neural_network import MLPClassifier\n",
    "from pprint import pprint"
   ]
  },
  {
   "cell_type": "code",
   "execution_count": 6,
   "id": "d7787e37",
   "metadata": {},
   "outputs": [],
   "source": [
    "# Load data from https://www.openml.org/d/554\n",
    "# This is the mnist data\n",
    "X, y = fetch_openml('mnist_784', version=1, return_X_y=True)\n",
    "X = X / 255.  # convert int to float\n",
    "\n",
    "# rescale the data, use the traditional train/test split\n",
    "X_train, X_test = X[:60000], X[60000:]\n",
    "y_train, y_test = y[:60000], y[60000:]"
   ]
  },
  {
   "cell_type": "code",
   "execution_count": 7,
   "id": "3045b222",
   "metadata": {},
   "outputs": [],
   "source": [
    "# Utility function to print actual image of mnist\n",
    "# Takes in an array of 784x1\n",
    "def print_image(image):\n",
    "    image = np.array(image, dtype='float')\n",
    "    pixels = image.reshape((28, 28))\n",
    "    plt.imshow(pixels, cmap='gray')\n",
    "    plt.show()"
   ]
  },
  {
   "cell_type": "code",
   "execution_count": 8,
   "id": "9651cfd9",
   "metadata": {},
   "outputs": [
    {
     "data": {
      "application/javascript": [
       "\n",
       "        if (window._pyforest_update_imports_cell) { window._pyforest_update_imports_cell('import numpy as np'); }\n",
       "    "
      ],
      "text/plain": [
       "<IPython.core.display.Javascript object>"
      ]
     },
     "metadata": {},
     "output_type": "display_data"
    },
    {
     "data": {
      "image/png": "[encoded data removed]",
      "text/plain": [
       "<Figure size 432x288 with 1 Axes>"
      ]
     },
     "metadata": {
      "needs_background": "light"
     },
     "output_type": "display_data"
    }
   ],
   "source": [
    "# Let's see what the images look like\n",
    "print_image(X_test.to_numpy()[0])"
   ]
  },
  {
   "cell_type": "code",
   "execution_count": 11,
   "id": "43be0c5d",
   "metadata": {},
   "outputs": [
    {
     "name": "stdout",
     "output_type": "stream",
     "text": [
      "array([0.        , 0.        , 0.        , 0.        , 0.        ,\n",
      "       0.        , 0.        , 0.        , 0.        , 0.        ,\n",
      "       0.        , 0.        , 0.        , 0.        , 0.        ,\n",
      "       0.        , 0.        , 0.        , 0.        , 0.        ,\n",
      "       0.        , 0.        , 0.        , 0.        , 0.        ,\n",
      "       0.        , 0.        , 0.        , 0.        , 0.        ,\n",
      "       0.        , 0.        , 0.        , 0.        , 0.        ,\n",
      "       0.        , 0.        , 0.        , 0.        , 0.        ,\n",
      "       0.        , 0.        , 0.        , 0.        , 0.        ,\n",
      "       0.        , 0.        , 0.        , 0.        , 0.        ,\n",
      "       0.        , 0.        , 0.        , 0.        , 0.        ,\n",
      "       0.        , 0.        , 0.        , 0.        , 0.        ,\n",
      "       0.        , 0.        , 0.        , 0.        , 0.        ,\n",
      "       0.        , 0.        , 0.        , 0.        , 0.        ,\n",
      "       0.        , 0.        , 0.        , 0.        , 0.        ,\n",
      "       0.        , 0.        , 0.        , 0.        , 0.        ,\n",
      "       0.        , 0.        , 0.        , 0.        , 0.        ,\n",
      "       0.        , 0.        , 0.        , 0.        , 0.        ,\n",
      "       0.        , 0.        , 0.        , 0.        , 0.        ,\n",
      "       0.        , 0.        , 0.        , 0.        , 0.        ,\n",
      "       0.        , 0.        , 0.        , 0.        , 0.        ,\n",
      "       0.        , 0.        , 0.        , 0.        , 0.        ,\n",
      "       0.        , 0.        , 0.        , 0.        , 0.        ,\n",
      "       0.        , 0.        , 0.        , 0.        , 0.        ,\n",
      "       0.        , 0.        , 0.        , 0.        , 0.        ,\n",
      "       0.        , 0.        , 0.        , 0.        , 0.        ,\n",
      "       0.        , 0.        , 0.        , 0.        , 0.        ,\n",
      "       0.        , 0.        , 0.        , 0.        , 0.        ,\n",
      "       0.        , 0.        , 0.        , 0.        , 0.        ,\n",
      "       0.        , 0.        , 0.        , 0.        , 0.        ,\n",
      "       0.        , 0.        , 0.        , 0.        , 0.        ,\n",
      "       0.        , 0.        , 0.        , 0.        , 0.        ,\n",
      "       0.        , 0.        , 0.        , 0.        , 0.        ,\n",
      "       0.        , 0.        , 0.        , 0.        , 0.        ,\n",
      "       0.        , 0.        , 0.        , 0.        , 0.        ,\n",
      "       0.        , 0.        , 0.        , 0.        , 0.        ,\n",
      "       0.        , 0.        , 0.        , 0.        , 0.        ,\n",
      "       0.        , 0.        , 0.        , 0.        , 0.        ,\n",
      "       0.        , 0.        , 0.        , 0.        , 0.        ,\n",
      "       0.        , 0.        , 0.        , 0.        , 0.        ,\n",
      "       0.        , 0.        , 0.32941176, 0.7254902 , 0.62352941,\n",
      "       0.59215686, 0.23529412, 0.14117647, 0.        , 0.        ,\n",
      "       0.        , 0.        , 0.        , 0.        , 0.        ,\n",
      "       0.        , 0.        , 0.        , 0.        , 0.        ,\n",
      "       0.        , 0.        , 0.        , 0.        , 0.        ,\n",
      "       0.        , 0.        , 0.        , 0.        , 0.        ,\n",
      "       0.87058824, 0.99607843, 0.99607843, 0.99607843, 0.99607843,\n",
      "       0.94509804, 0.77647059, 0.77647059, 0.77647059, 0.77647059,\n",
      "       0.77647059, 0.77647059, 0.77647059, 0.77647059, 0.66666667,\n",
      "       0.20392157, 0.        , 0.        , 0.        , 0.        ,\n",
      "       0.        , 0.        , 0.        , 0.        , 0.        ,\n",
      "       0.        , 0.        , 0.        , 0.2627451 , 0.44705882,\n",
      "       0.28235294, 0.44705882, 0.63921569, 0.89019608, 0.99607843,\n",
      "       0.88235294, 0.99607843, 0.99607843, 0.99607843, 0.98039216,\n",
      "       0.89803922, 0.99607843, 0.99607843, 0.54901961, 0.        ,\n",
      "       0.        , 0.        , 0.        , 0.        , 0.        ,\n",
      "       0.        , 0.        , 0.        , 0.        , 0.        ,\n",
      "       0.        , 0.        , 0.        , 0.        , 0.        ,\n",
      "       0.        , 0.06666667, 0.25882353, 0.05490196, 0.2627451 ,\n",
      "       0.2627451 , 0.2627451 , 0.23137255, 0.08235294, 0.9254902 ,\n",
      "       0.99607843, 0.41568627, 0.        , 0.        , 0.        ,\n",
      "       0.        , 0.        , 0.        , 0.        , 0.        ,\n",
      "       0.        , 0.        , 0.        , 0.        , 0.        ,\n",
      "       0.        , 0.        , 0.        , 0.        , 0.        ,\n",
      "       0.        , 0.        , 0.        , 0.        , 0.        ,\n",
      "       0.        , 0.3254902 , 0.99215686, 0.81960784, 0.07058824,\n",
      "       0.        , 0.        , 0.        , 0.        , 0.        ,\n",
      "       0.        , 0.        , 0.        , 0.        , 0.        ,\n",
      "       0.        , 0.        , 0.        , 0.        , 0.        ,\n",
      "       0.        , 0.        , 0.        , 0.        , 0.        ,\n",
      "       0.        , 0.        , 0.        , 0.08627451, 0.91372549,\n",
      "       1.        , 0.3254902 , 0.        , 0.        , 0.        ,\n",
      "       0.        , 0.        , 0.        , 0.        , 0.        ,\n",
      "       0.        , 0.        , 0.        , 0.        , 0.        ,\n",
      "       0.        , 0.        , 0.        , 0.        , 0.        ,\n",
      "       0.        , 0.        , 0.        , 0.        , 0.        ,\n",
      "       0.        , 0.50588235, 0.99607843, 0.93333333, 0.17254902,\n",
      "       0.        , 0.        , 0.        , 0.        , 0.        ,\n",
      "       0.        , 0.        , 0.        , 0.        , 0.        ,\n",
      "       0.        , 0.        , 0.        , 0.        , 0.        ,\n",
      "       0.        , 0.        , 0.        , 0.        , 0.        ,\n",
      "       0.        , 0.        , 0.        , 0.23137255, 0.97647059,\n",
      "       0.99607843, 0.24313725, 0.        , 0.        , 0.        ,\n",
      "       0.        , 0.        , 0.        , 0.        , 0.        ,\n",
      "       0.        , 0.        , 0.        , 0.        , 0.        ,\n",
      "       0.        , 0.        , 0.        , 0.        , 0.        ,\n",
      "       0.        , 0.        , 0.        , 0.        , 0.        ,\n",
      "       0.        , 0.52156863, 0.99607843, 0.73333333, 0.01960784,\n",
      "       0.        , 0.        , 0.        , 0.        , 0.        ,\n",
      "       0.        , 0.        , 0.        , 0.        , 0.        ,\n",
      "       0.        , 0.        , 0.        , 0.        , 0.        ,\n",
      "       0.        , 0.        , 0.        , 0.        , 0.        ,\n",
      "       0.        , 0.        , 0.        , 0.03529412, 0.80392157,\n",
      "       0.97254902, 0.22745098, 0.        , 0.        , 0.        ,\n",
      "       0.        , 0.        , 0.        , 0.        , 0.        ,\n",
      "       0.        , 0.        , 0.        , 0.        , 0.        ,\n",
      "       0.        , 0.        , 0.        , 0.        , 0.        ,\n",
      "       0.        , 0.        , 0.        , 0.        , 0.        ,\n",
      "       0.        , 0.49411765, 0.99607843, 0.71372549, 0.        ,\n",
      "       0.        , 0.        , 0.        , 0.        , 0.        ,\n",
      "       0.        , 0.        , 0.        , 0.        , 0.        ,\n",
      "       0.        , 0.        , 0.        , 0.        , 0.        ,\n",
      "       0.        , 0.        , 0.        , 0.        , 0.        ,\n",
      "       0.        , 0.        , 0.        , 0.29411765, 0.98431373,\n",
      "       0.94117647, 0.22352941, 0.        , 0.        , 0.        ,\n",
      "       0.        , 0.        , 0.        , 0.        , 0.        ,\n",
      "       0.        , 0.        , 0.        , 0.        , 0.        ,\n",
      "       0.        , 0.        , 0.        , 0.        , 0.        ,\n",
      "       0.        , 0.        , 0.        , 0.        , 0.        ,\n",
      "       0.0745098 , 0.86666667, 0.99607843, 0.65098039, 0.        ,\n",
      "       0.        , 0.        , 0.        , 0.        , 0.        ,\n",
      "       0.        , 0.        , 0.        , 0.        , 0.        ,\n",
      "       0.        , 0.        , 0.        , 0.        , 0.        ,\n",
      "       0.        , 0.        , 0.        , 0.        , 0.        ,\n",
      "       0.        , 0.        , 0.01176471, 0.79607843, 0.99607843,\n",
      "       0.85882353, 0.1372549 , 0.        , 0.        , 0.        ,\n",
      "       0.        , 0.        , 0.        , 0.        , 0.        ,\n",
      "       0.        , 0.        , 0.        , 0.        , 0.        ,\n",
      "       0.        , 0.        , 0.        , 0.        , 0.        ,\n",
      "       0.        , 0.        , 0.        , 0.        , 0.        ,\n",
      "       0.14901961, 0.99607843, 0.99607843, 0.30196078, 0.        ,\n",
      "       0.        , 0.        , 0.        , 0.        , 0.        ,\n",
      "       0.        , 0.        , 0.        , 0.        , 0.        ,\n",
      "       0.        , 0.        , 0.        , 0.        , 0.        ,\n",
      "       0.        , 0.        , 0.        , 0.        , 0.        ,\n",
      "       0.        , 0.        , 0.12156863, 0.87843137, 0.99607843,\n",
      "       0.45098039, 0.00392157, 0.        , 0.        , 0.        ,\n",
      "       0.        , 0.        , 0.        , 0.        , 0.        ,\n",
      "       0.        , 0.        , 0.        , 0.        , 0.        ,\n",
      "       0.        , 0.        , 0.        , 0.        , 0.        ,\n",
      "       0.        , 0.        , 0.        , 0.        , 0.        ,\n",
      "       0.52156863, 0.99607843, 0.99607843, 0.20392157, 0.        ,\n",
      "       0.        , 0.        , 0.        , 0.        , 0.        ,\n",
      "       0.        , 0.        , 0.        , 0.        , 0.        ,\n",
      "       0.        , 0.        , 0.        , 0.        , 0.        ,\n",
      "       0.        , 0.        , 0.        , 0.        , 0.        ,\n",
      "       0.        , 0.        , 0.23921569, 0.94901961, 0.99607843,\n",
      "       0.99607843, 0.20392157, 0.        , 0.        , 0.        ,\n",
      "       0.        , 0.        , 0.        , 0.        , 0.        ,\n",
      "       0.        , 0.        , 0.        , 0.        , 0.        ,\n",
      "       0.        , 0.        , 0.        , 0.        , 0.        ,\n",
      "       0.        , 0.        , 0.        , 0.        , 0.        ,\n",
      "       0.4745098 , 0.99607843, 0.99607843, 0.85882353, 0.15686275,\n",
      "       0.        , 0.        , 0.        , 0.        , 0.        ,\n",
      "       0.        , 0.        , 0.        , 0.        , 0.        ,\n",
      "       0.        , 0.        , 0.        , 0.        , 0.        ,\n",
      "       0.        , 0.        , 0.        , 0.        , 0.        ,\n",
      "       0.        , 0.        , 0.        , 0.4745098 , 0.99607843,\n",
      "       0.81176471, 0.07058824, 0.        , 0.        , 0.        ,\n",
      "       0.        , 0.        , 0.        , 0.        , 0.        ,\n",
      "       0.        , 0.        , 0.        , 0.        , 0.        ,\n",
      "       0.        , 0.        , 0.        , 0.        , 0.        ,\n",
      "       0.        , 0.        , 0.        , 0.        , 0.        ,\n",
      "       0.        , 0.        , 0.        , 0.        , 0.        ,\n",
      "       0.        , 0.        , 0.        , 0.        , 0.        ,\n",
      "       0.        , 0.        , 0.        , 0.        , 0.        ,\n",
      "       0.        , 0.        , 0.        , 0.        ])\n"
     ]
    }
   ],
   "source": [
    "# Here is how the computer actually represents it\n",
    "pprint(X_test.to_numpy()[0])"
   ]
  },
  {
   "cell_type": "code",
   "execution_count": null,
   "id": "f59b3804",
   "metadata": {},
   "outputs": [],
   "source": [
    "# Setup classifier\n",
    "mlp = MLPClassifier(hidden_layer_sizes=(50,), max_iter=10, alpha=1e-4,\n",
    "                    solver='sgd', verbose=10, random_state=1,\n",
    "                    learning_rate_init=.1)"
   ]
  },
  {
   "cell_type": "code",
   "execution_count": 12,
   "id": "4d18ed0d",
   "metadata": {},
   "outputs": [],
   "source": [
    "# https://scikit-learn.org/stable/modules/generated/sklearn.neural_network.MLPClassifier.html#sklearn.neural_network.MLPClassifier\n",
    "MLPClassifier?"
   ]
  },
  {
   "cell_type": "code",
   "execution_count": 43,
   "id": "8f4da58a",
   "metadata": {},
   "outputs": [
    {
     "name": "stdout",
     "output_type": "stream",
     "text": [
      "Iteration 1, loss = 0.32009978\n",
      "Iteration 2, loss = 0.15347534\n",
      "Iteration 3, loss = 0.11544755\n",
      "Iteration 4, loss = 0.09279764\n",
      "Iteration 5, loss = 0.07889367\n",
      "Iteration 6, loss = 0.07170497\n",
      "Iteration 7, loss = 0.06282111\n",
      "Iteration 8, loss = 0.05530788\n",
      "Iteration 9, loss = 0.04960484\n",
      "Iteration 10, loss = 0.04645355\n"
     ]
    },
    {
     "name": "stderr",
     "output_type": "stream",
     "text": [
      "/usr/local/anaconda3/envs/p8/lib/python3.8/site-packages/sklearn/neural_network/_multilayer_perceptron.py:614: ConvergenceWarning: Stochastic Optimizer: Maximum iterations (10) reached and the optimization hasn't converged yet.\n",
      "  warnings.warn(\n"
     ]
    },
    {
     "data": {
      "text/plain": [
       "MLPClassifier(hidden_layer_sizes=(50,), learning_rate_init=0.1, max_iter=10,\n",
       "              random_state=1, solver='sgd', verbose=10)"
      ]
     },
     "execution_count": 43,
     "metadata": {},
     "output_type": "execute_result"
    }
   ],
   "source": [
    "# Train classifier\n",
    "mlp.fit(X_train, y_train)"
   ]
  },
  {
   "cell_type": "code",
   "execution_count": 44,
   "id": "e355f2cd",
   "metadata": {},
   "outputs": [
    {
     "name": "stdout",
     "output_type": "stream",
     "text": [
      "Iteration 1, loss = 0.32009978\n",
      "Iteration 2, loss = 0.15347534\n",
      "Iteration 3, loss = 0.11544755\n",
      "Iteration 4, loss = 0.09279764\n",
      "Iteration 5, loss = 0.07889367\n",
      "Iteration 6, loss = 0.07170497\n",
      "Iteration 7, loss = 0.06282111\n",
      "Iteration 8, loss = 0.05530788\n",
      "Iteration 9, loss = 0.04960484\n",
      "Iteration 10, loss = 0.04645355\n"
     ]
    }
   ],
   "source": [
    "# this example won't converge because of CI's time constraints, so we catch the warning and are ignore it here\n",
    "\n",
    "from sklearn.exceptions import ConvergenceWarning\n",
    "import warnings\n",
    "\n",
    "with warnings.catch_warnings():\n",
    "    warnings.filterwarnings(\"ignore\", category=ConvergenceWarning,\n",
    "                            module=\"sklearn\")\n",
    "    mlp.fit(X_train, y_train)"
   ]
  },
  {
   "cell_type": "code",
   "execution_count": 45,
   "id": "b06e05c7",
   "metadata": {},
   "outputs": [
    {
     "name": "stdout",
     "output_type": "stream",
     "text": [
      "Training set score: 0.986800\n",
      "Test set score: 0.970000\n"
     ]
    }
   ],
   "source": [
    "print(\"Training set score: %f\" % mlp.score(X_train, y_train))\n",
    "print(\"Test set score: %f\" % mlp.score(X_test, y_test))"
   ]
  },
  {
   "cell_type": "code",
   "execution_count": 95,
   "id": "1e662f76",
   "metadata": {},
   "outputs": [
    {
     "data": {
      "text/plain": [
       "[array([[-0.01405516,  0.03731949, -0.08467273, ..., -0.0349585 ,\n",
       "         -0.03594751, -0.06266732],\n",
       "        [-0.08141165,  0.03029191, -0.04884564, ...,  0.01248014,\n",
       "         -0.08420591,  0.0198425 ],\n",
       "        [-0.02936362,  0.00458322,  0.0653725 , ...,  0.03607697,\n",
       "          0.01011511, -0.08256532],\n",
       "        ...,\n",
       "        [ 0.02848052, -0.07641292, -0.01940089, ..., -0.06692097,\n",
       "         -0.0281908 , -0.05097943],\n",
       "        [-0.05605756,  0.08426531, -0.07566693, ..., -0.03975366,\n",
       "         -0.06697031,  0.08218818],\n",
       "        [ 0.04899327,  0.04567228, -0.01877677, ...,  0.04117367,\n",
       "         -0.00405521, -0.05411453]]),\n",
       " array([[-1.38186849e+00,  4.24161127e-01, -2.88652112e-01,\n",
       "          4.29691288e-01,  6.00304216e-01,  4.17851157e-01,\n",
       "         -1.28263194e+00, -3.73907194e-02,  5.45098612e-01,\n",
       "          6.02127616e-01],\n",
       "        [-8.75430122e-02,  4.41082202e-01, -8.27770773e-01,\n",
       "         -1.35785254e+00,  6.00870436e-01,  1.98766830e-01,\n",
       "         -3.19555836e-02, -1.13174398e-02, -9.57186251e-02,\n",
       "          7.19553353e-01],\n",
       "        [-3.03314733e-01, -8.18821134e-01, -5.27327741e-01,\n",
       "          3.44339033e-01, -2.59411924e-01,  6.53487098e-03,\n",
       "          4.88425580e-01, -4.82308756e-01,  2.60796223e-01,\n",
       "          7.17324379e-01],\n",
       "        [ 5.66686295e-01, -1.60765755e-01, -8.80749158e-01,\n",
       "          7.86733981e-01, -6.20694305e-01,  8.28225549e-01,\n",
       "          8.26059370e-01, -1.26989581e+00, -1.56150596e-02,\n",
       "          1.74749009e-01],\n",
       "        [-2.92167938e-01,  7.25980334e-01,  9.26051420e-02,\n",
       "          1.43998495e-01, -3.17458193e-01, -1.60195163e+00,\n",
       "          6.64838358e-01,  5.88545056e-01, -4.20784490e-02,\n",
       "          2.81315230e-02],\n",
       "        [ 3.03144530e-01,  2.83102530e-01,  4.65015192e-01,\n",
       "         -2.76036154e-01,  5.35164783e-01,  2.55200455e-01,\n",
       "         -5.41349902e-01, -1.30236469e-01, -1.53922233e+00,\n",
       "          3.95367533e-01],\n",
       "        [-2.37312127e-02,  1.46682132e+00, -3.21084349e-01,\n",
       "         -8.98233123e-01, -1.04623159e-01,  1.23525498e+00,\n",
       "         -2.33798768e-01, -1.27673047e-01, -7.97318929e-01,\n",
       "         -1.94951250e-01],\n",
       "        [-3.37407739e-02, -7.10766261e-01, -1.91495329e-01,\n",
       "          5.17675166e-01, -1.56797846e+00,  1.06468915e+00,\n",
       "         -2.94847869e-01,  6.90017433e-01,  1.06622237e-01,\n",
       "          1.96623356e-01],\n",
       "        [ 2.09842903e-01,  8.03354560e-02,  1.97551544e-01,\n",
       "          2.71472803e-01, -2.83954180e-01,  3.00049672e-01,\n",
       "          6.35387344e-03, -1.46279107e-01,  2.79042482e-01,\n",
       "         -1.55991645e-01],\n",
       "        [ 8.85275970e-01, -3.78490638e-01,  4.17387442e-01,\n",
       "         -1.04207291e+00,  2.57049162e-01, -7.39764723e-01,\n",
       "          5.72767566e-01, -1.74745162e-01,  5.25235919e-01,\n",
       "          9.75144417e-03],\n",
       "        [-1.54566814e-01, -1.51619386e-01,  8.99921943e-02,\n",
       "          5.18378362e-01,  7.36335190e-02, -3.75810626e-01,\n",
       "          1.84490436e-01, -2.32368871e-01, -2.24742704e-01,\n",
       "         -1.13748086e-01],\n",
       "        [-1.03503387e-01, -4.03206517e-03,  7.40038676e-01,\n",
       "          6.35259549e-01, -1.21944639e+00, -5.22412432e-01,\n",
       "          7.09016131e-02,  2.78175223e-01,  3.73047036e-01,\n",
       "          3.67922794e-01],\n",
       "        [-2.88134449e-01, -4.46482770e-01,  2.50419933e-01,\n",
       "          4.48246820e-01,  2.62395556e-01, -5.97666496e-01,\n",
       "         -1.86701781e-01, -1.47936592e-01,  6.66512639e-01,\n",
       "          2.57315005e-01],\n",
       "        [ 9.18297912e-02, -1.64922987e-02, -3.24073154e-02,\n",
       "          1.54661782e-01, -7.95945386e-02,  1.72913020e-01,\n",
       "          2.67893594e-01, -5.24692224e-02,  3.11059140e-01,\n",
       "          1.42110256e-01],\n",
       "        [-3.87616635e-01,  3.20850388e-01,  1.17667043e+00,\n",
       "         -2.68744647e-01, -8.19659092e-01, -3.70024017e-01,\n",
       "         -1.74885113e-01,  4.34994417e-01,  7.24235665e-01,\n",
       "         -1.43222247e+00],\n",
       "        [-9.63506109e-01, -8.49775844e-01,  3.52522925e-01,\n",
       "         -5.08926148e-02, -4.93981740e-01,  1.29575094e+00,\n",
       "          9.36773795e-01,  1.64154602e-02,  8.32695623e-02,\n",
       "         -1.64976805e-01],\n",
       "        [-1.18134903e-01,  3.65602850e-02, -7.57956620e-02,\n",
       "          6.47910079e-01,  1.38923670e-01, -1.08741097e+00,\n",
       "         -6.65553883e-01,  5.48004597e-01, -9.23216162e-01,\n",
       "          5.78474850e-01],\n",
       "        [-3.03076675e-01,  1.17130111e+00, -5.73659822e-02,\n",
       "          2.80872889e-01,  1.30391374e+00, -9.89250836e-01,\n",
       "         -3.14794544e-01,  6.67052984e-01, -3.46669908e-01,\n",
       "         -5.06011043e-01],\n",
       "        [-8.50038060e-02, -1.04831832e-01,  1.91887779e-01,\n",
       "          2.27275808e-01,  1.13259403e-01,  6.17306993e-02,\n",
       "          2.10211299e-01, -2.16115839e-01, -3.12160693e-01,\n",
       "         -4.94073441e-02],\n",
       "        [-2.20675797e-01,  1.16226244e-02,  6.52742278e-01,\n",
       "          3.01651982e-01, -9.58935236e-01,  8.44957906e-01,\n",
       "         -9.44183407e-01,  7.27745408e-01, -3.28947247e-01,\n",
       "         -4.00816688e-01],\n",
       "        [-5.19080939e-01,  4.68172745e-01,  8.40507158e-01,\n",
       "         -1.27639650e-01,  1.61873286e-01, -1.19617060e-01,\n",
       "          2.74888924e-01,  8.47239787e-01,  5.79607636e-01,\n",
       "         -1.53495739e+00],\n",
       "        [-1.06472380e+00, -4.14938068e-01, -1.54021367e-01,\n",
       "          1.19909172e+00,  4.58403156e-01,  9.93132507e-01,\n",
       "         -3.54975429e-01, -5.73533829e-01,  3.21756802e-01,\n",
       "          4.71227038e-01],\n",
       "        [ 3.68503114e-01, -4.94751504e-01, -9.85587273e-01,\n",
       "         -2.22744942e-01, -1.51742448e-03,  1.60177205e-01,\n",
       "          8.75620648e-01, -5.33438437e-01,  1.21991401e-01,\n",
       "          6.88317248e-01],\n",
       "        [ 2.89181277e-01, -5.24851450e-01, -6.88114703e-01,\n",
       "         -1.45760284e+00,  9.48596564e-01,  4.82275524e-01,\n",
       "          3.83058452e-01,  2.31903488e-01,  4.63386290e-01,\n",
       "          2.58494608e-01],\n",
       "        [-6.07997630e-01,  8.68627172e-01,  1.48461834e-01,\n",
       "          5.56039391e-01,  1.24779704e+00, -6.39707550e-01,\n",
       "         -4.64446679e-01,  9.20264663e-02, -2.53790641e-01,\n",
       "         -4.71381765e-01],\n",
       "        [-3.19819633e-01,  6.00132560e-02, -1.38172985e+00,\n",
       "          6.65952298e-01, -7.22603191e-01,  4.48876590e-01,\n",
       "          1.04814761e-01,  2.16755844e-01,  4.03946199e-01,\n",
       "          4.35467862e-01],\n",
       "        [-1.39793215e-01,  4.84457537e-01,  5.14991838e-01,\n",
       "          3.84079849e-01, -1.20160711e+00,  4.57525215e-01,\n",
       "          5.34470526e-01, -1.32916268e+00,  8.05081582e-01,\n",
       "         -2.96336386e-01],\n",
       "        [ 8.22905879e-01, -5.94058039e-01, -3.78631000e-01,\n",
       "          2.81789053e-01, -1.06532201e-01,  2.10188093e-01,\n",
       "         -1.47267036e-01, -7.39139261e-01,  4.46293001e-01,\n",
       "          2.89086279e-01],\n",
       "        [ 1.74743439e-01, -5.99056565e-01, -1.02285198e+00,\n",
       "         -5.96147758e-01, -1.66087976e-02,  1.11149493e-01,\n",
       "          3.54630931e-01,  4.89508860e-01,  5.30624593e-01,\n",
       "          2.00319684e-01],\n",
       "        [-4.58920625e-01,  2.93139365e-01,  7.11293192e-01,\n",
       "         -7.38333830e-02,  7.07040581e-02, -5.87524508e-02,\n",
       "          7.11826462e-01,  4.90621802e-01,  2.40230785e-02,\n",
       "         -1.47082670e+00],\n",
       "        [-7.96165321e-01,  2.70952878e-01,  1.77891799e-01,\n",
       "         -5.16985104e-01,  8.39724227e-02,  5.21345163e-01,\n",
       "          2.58027784e-01, -8.13088791e-01,  7.82273094e-01,\n",
       "         -1.02241643e-01],\n",
       "        [ 8.50340007e-01, -5.87215272e-01,  1.98749840e-01,\n",
       "          8.81782715e-01, -1.74895624e+00,  5.97670106e-01,\n",
       "         -2.16904422e-01,  4.80161304e-01, -1.95740818e-01,\n",
       "         -4.67430009e-02],\n",
       "        [-3.53914310e-01, -2.50307413e-01,  3.85266513e-01,\n",
       "         -1.23275188e-02,  7.77106635e-01, -2.54289331e-01,\n",
       "         -5.45053489e-01,  9.68732707e-01, -1.69237976e+00,\n",
       "          6.47290503e-01],\n",
       "        [ 6.34385869e-01,  3.28020126e-01,  8.59105668e-01,\n",
       "          1.58998930e-02,  2.35529463e-02, -1.04426685e+00,\n",
       "         -4.36409458e-01,  5.09990462e-01, -5.22578700e-01,\n",
       "          6.14449302e-01],\n",
       "        [ 5.33639833e-01,  3.72848122e-02,  4.96435708e-01,\n",
       "          2.39038060e-03, -4.61246773e-01,  3.03381028e-01,\n",
       "          7.08891088e-01, -1.23971675e+00,  2.26743838e-01,\n",
       "         -6.74475332e-01],\n",
       "        [ 5.55323212e-01,  5.36755870e-02,  1.19920989e-01,\n",
       "         -3.90929815e-01,  7.20146301e-01,  8.81059026e-02,\n",
       "          6.84819730e-01,  2.58945906e-01, -3.09740533e-01,\n",
       "         -1.41349265e+00],\n",
       "        [ 1.46646916e-01, -6.77868435e-01,  3.88598392e-01,\n",
       "         -5.27215037e-01,  4.86157511e-01,  5.82145893e-01,\n",
       "          9.18853245e-01, -1.68862935e-01,  3.57662482e-02,\n",
       "         -9.20628004e-01],\n",
       "        [-2.31034576e-01, -4.30001743e-01,  3.16687233e-02,\n",
       "         -3.38816603e-01,  4.44806615e-01, -4.87781147e-02,\n",
       "         -9.86800508e-01,  3.28632603e-01,  6.88599282e-01,\n",
       "          4.25900336e-01],\n",
       "        [-1.52155528e-01,  4.99212682e-01,  6.46737786e-01,\n",
       "         -7.17967727e-01, -2.37648230e-01, -5.51035693e-01,\n",
       "          7.99117968e-01,  1.60129090e-01, -9.59257671e-01,\n",
       "         -3.25055768e-02],\n",
       "        [-4.64886870e-01,  3.18227066e-01,  1.71616079e-02,\n",
       "          9.87352437e-01,  5.64291267e-01, -1.27862913e+00,\n",
       "          8.83094146e-02,  5.55242258e-03, -7.18964701e-02,\n",
       "         -2.71040076e-01],\n",
       "        [ 5.74844309e-01,  9.50550195e-01,  7.83781909e-01,\n",
       "          5.72486990e-02, -7.41969832e-02, -1.37851685e+00,\n",
       "         -9.80597658e-01,  4.89861853e-01,  1.71688350e-02,\n",
       "          7.18794855e-01],\n",
       "        [ 2.02084250e-01,  3.32212120e-01,  5.47042722e-01,\n",
       "          3.62910407e-01, -5.25269044e-01,  4.26679200e-01,\n",
       "         -3.56576373e-01,  9.55780879e-01, -1.14826399e+00,\n",
       "         -2.28717797e-01],\n",
       "        [ 2.04245618e-01, -1.64387326e-01,  3.11648325e-02,\n",
       "          2.08530058e-01,  1.61734023e-01,  7.62256786e-02,\n",
       "          1.05252763e-01, -1.77298067e-01,  6.71605076e-02,\n",
       "          1.88059440e-01],\n",
       "        [-1.08866525e+00,  2.38317089e-01, -1.09034962e+00,\n",
       "          6.18733549e-01,  7.58222777e-01,  2.22632138e-01,\n",
       "         -1.45657086e+00,  1.79426287e-01,  4.19612418e-01,\n",
       "          5.81051911e-01],\n",
       "        [ 3.00683426e-01, -2.72334002e-01, -1.67811611e-01,\n",
       "          6.17690058e-02, -2.10556072e-01, -1.78217849e-01,\n",
       "          6.92553916e-02, -2.66001362e-01, -9.62724688e-02,\n",
       "          2.40575700e-01],\n",
       "        [ 1.74773227e-01,  2.11379962e-01, -6.04933711e-01,\n",
       "         -3.38318050e-01,  7.53652655e-01,  1.78016185e-01,\n",
       "          1.85594789e-01,  1.41899023e+00, -1.28174719e+00,\n",
       "         -1.00648439e-01],\n",
       "        [-1.00195169e-01, -2.32111178e-01,  1.12836282e+00,\n",
       "          1.02362758e+00, -8.49799644e-01, -8.91324710e-02,\n",
       "         -4.15254695e-01,  1.05554860e+00, -3.92535930e-01,\n",
       "         -1.08401406e+00],\n",
       "        [ 4.17064142e-01, -5.50060782e-01,  3.68246088e-01,\n",
       "          1.82354503e-01, -5.98410270e-01,  3.89994633e-01,\n",
       "         -3.43569776e-01, -6.77515164e-01,  1.01337620e-01,\n",
       "          8.95651079e-01],\n",
       "        [ 6.89814017e-01,  8.85004703e-01,  5.59642500e-01,\n",
       "         -9.61543021e-01, -6.14635383e-01, -1.72983553e-01,\n",
       "          3.82332301e-01,  6.89855145e-02, -4.23219945e-01,\n",
       "         -2.87508376e-01],\n",
       "        [-1.42814931e-01, -4.21607760e-01, -2.32205213e-01,\n",
       "          5.23167828e-01,  3.61884301e-01, -4.01887507e-02,\n",
       "          4.81816121e-01, -3.38558474e-01, -4.49265382e-02,\n",
       "         -4.16851640e-01]])]"
      ]
     },
     "execution_count": 95,
     "metadata": {},
     "output_type": "execute_result"
    }
   ],
   "source": [
    "mlp.coefs_"
   ]
  },
  {
   "cell_type": "markdown",
   "id": "0c3a78f1",
   "metadata": {},
   "source": [
    "# ![TensorFlow](https://upload.wikimedia.org/wikipedia/commons/thumb/1/11/TensorFlowLogo.svg/330px-TensorFlowLogo.svg.png)\n",
    "\n",
    "\n",
    "**TensorFlow is an end-to-end open source platform for machine learning.**  \n",
    "\n",
    "- Originally from Google Brain team, with particular focus on training and inference of deep neural networks.\n",
    "- Tensorflow is a symbolic math library based on dataflow and differentiable programming.\n",
    "- Uses C++ libraries to exploit CPU vector math libraries\n",
    "- Can leverage to NVIDIA CUDA library for high parallelization\n",
    "- Supports Python, JavaScript, C++, Java, Go, Swift (Early Release)\n",
    "\n",
    "Generally, it can think of as a programming system in which you represent computations as graphs. \n",
    "- Nodes in the graph represent math operations\n",
    "- Edges represent multidimensional data arrays (tensors) communicated between them\n",
    "\n",
    "**Great Tutorial**  \n",
    "https://data-flair.training/blogs/tensorflow-tutorial/"
   ]
  },
  {
   "cell_type": "code",
   "execution_count": 46,
   "id": "b2a32704",
   "metadata": {},
   "outputs": [
    {
     "name": "stdout",
     "output_type": "stream",
     "text": [
      "Requirement already satisfied: tensorflow in /usr/local/anaconda3/envs/p8/lib/python3.8/site-packages (2.4.0)\n",
      "Requirement already satisfied: flatbuffers~=1.12.0 in /usr/local/anaconda3/envs/p8/lib/python3.8/site-packages (from tensorflow) (1.12)\n",
      "Requirement already satisfied: termcolor~=1.1.0 in /usr/local/anaconda3/envs/p8/lib/python3.8/site-packages (from tensorflow) (1.1.0)\n",
      "Requirement already satisfied: astunparse~=1.6.3 in /usr/local/anaconda3/envs/p8/lib/python3.8/site-packages (from tensorflow) (1.6.3)\n",
      "Requirement already satisfied: six~=1.15.0 in /usr/local/anaconda3/envs/p8/lib/python3.8/site-packages (from tensorflow) (1.15.0)\n",
      "Requirement already satisfied: grpcio~=1.32.0 in /usr/local/anaconda3/envs/p8/lib/python3.8/site-packages (from tensorflow) (1.32.0)\n",
      "Requirement already satisfied: typing-extensions~=3.7.4 in /usr/local/anaconda3/envs/p8/lib/python3.8/site-packages (from tensorflow) (3.7.4.3)\n",
      "Requirement already satisfied: keras-preprocessing~=1.1.2 in /usr/local/anaconda3/envs/p8/lib/python3.8/site-packages (from tensorflow) (1.1.2)\n",
      "Requirement already satisfied: google-pasta~=0.2 in /usr/local/anaconda3/envs/p8/lib/python3.8/site-packages (from tensorflow) (0.2.0)\n",
      "Requirement already satisfied: gast==0.3.3 in /usr/local/anaconda3/envs/p8/lib/python3.8/site-packages (from tensorflow) (0.3.3)\n",
      "Requirement already satisfied: wheel~=0.35 in /usr/local/anaconda3/envs/p8/lib/python3.8/site-packages (from tensorflow) (0.36.2)\n",
      "Requirement already satisfied: tensorflow-estimator<2.5.0,>=2.4.0rc0 in /usr/local/anaconda3/envs/p8/lib/python3.8/site-packages (from tensorflow) (2.4.0)\n",
      "Requirement already satisfied: wrapt~=1.12.1 in /usr/local/anaconda3/envs/p8/lib/python3.8/site-packages (from tensorflow) (1.12.1)\n",
      "Requirement already satisfied: h5py~=2.10.0 in /usr/local/anaconda3/envs/p8/lib/python3.8/site-packages (from tensorflow) (2.10.0)\n",
      "Requirement already satisfied: protobuf>=3.9.2 in /usr/local/anaconda3/envs/p8/lib/python3.8/site-packages (from tensorflow) (3.14.0)\n",
      "Requirement already satisfied: tensorboard~=2.4 in /usr/local/anaconda3/envs/p8/lib/python3.8/site-packages (from tensorflow) (2.4.0)\n",
      "Requirement already satisfied: opt-einsum~=3.3.0 in /usr/local/anaconda3/envs/p8/lib/python3.8/site-packages (from tensorflow) (3.3.0)\n",
      "Requirement already satisfied: absl-py~=0.10 in /usr/local/anaconda3/envs/p8/lib/python3.8/site-packages (from tensorflow) (0.11.0)\n",
      "Requirement already satisfied: numpy~=1.19.2 in /usr/local/anaconda3/envs/p8/lib/python3.8/site-packages (from tensorflow) (1.19.5)\n",
      "Requirement already satisfied: google-auth<2,>=1.6.3 in /usr/local/anaconda3/envs/p8/lib/python3.8/site-packages (from tensorboard~=2.4->tensorflow) (1.23.0)\n",
      "Requirement already satisfied: tensorboard-plugin-wit>=1.6.0 in /usr/local/anaconda3/envs/p8/lib/python3.8/site-packages (from tensorboard~=2.4->tensorflow) (1.7.0)\n",
      "Requirement already satisfied: requests<3,>=2.21.0 in /usr/local/anaconda3/envs/p8/lib/python3.8/site-packages (from tensorboard~=2.4->tensorflow) (2.25.1)\n",
      "Requirement already satisfied: google-auth-oauthlib<0.5,>=0.4.1 in /usr/local/anaconda3/envs/p8/lib/python3.8/site-packages (from tensorboard~=2.4->tensorflow) (0.4.2)\n",
      "Requirement already satisfied: markdown>=2.6.8 in /usr/local/anaconda3/envs/p8/lib/python3.8/site-packages (from tensorboard~=2.4->tensorflow) (3.3.4)\n",
      "Requirement already satisfied: werkzeug>=0.11.15 in /usr/local/anaconda3/envs/p8/lib/python3.8/site-packages (from tensorboard~=2.4->tensorflow) (1.0.1)\n",
      "Requirement already satisfied: setuptools>=41.0.0 in /usr/local/anaconda3/envs/p8/lib/python3.8/site-packages (from tensorboard~=2.4->tensorflow) (52.0.0.post20210125)\n",
      "Requirement already satisfied: cachetools<5.0,>=2.0.0 in /usr/local/anaconda3/envs/p8/lib/python3.8/site-packages (from google-auth<2,>=1.6.3->tensorboard~=2.4->tensorflow) (4.1.1)\n",
      "Requirement already satisfied: pyasn1-modules>=0.2.1 in /usr/local/anaconda3/envs/p8/lib/python3.8/site-packages (from google-auth<2,>=1.6.3->tensorboard~=2.4->tensorflow) (0.2.8)\n",
      "Requirement already satisfied: rsa<5,>=3.1.4 in /usr/local/anaconda3/envs/p8/lib/python3.8/site-packages (from google-auth<2,>=1.6.3->tensorboard~=2.4->tensorflow) (4.6)\n",
      "Requirement already satisfied: requests-oauthlib>=0.7.0 in /usr/local/anaconda3/envs/p8/lib/python3.8/site-packages (from google-auth-oauthlib<0.5,>=0.4.1->tensorboard~=2.4->tensorflow) (1.3.0)\n",
      "Requirement already satisfied: pyasn1<0.5.0,>=0.4.6 in /usr/local/anaconda3/envs/p8/lib/python3.8/site-packages (from pyasn1-modules>=0.2.1->google-auth<2,>=1.6.3->tensorboard~=2.4->tensorflow) (0.4.8)\n",
      "Requirement already satisfied: idna<3,>=2.5 in /usr/local/anaconda3/envs/p8/lib/python3.8/site-packages (from requests<3,>=2.21.0->tensorboard~=2.4->tensorflow) (2.10)\n",
      "Requirement already satisfied: chardet<5,>=3.0.2 in /usr/local/anaconda3/envs/p8/lib/python3.8/site-packages (from requests<3,>=2.21.0->tensorboard~=2.4->tensorflow) (3.0.4)\n",
      "Requirement already satisfied: urllib3<1.27,>=1.21.1 in /usr/local/anaconda3/envs/p8/lib/python3.8/site-packages (from requests<3,>=2.21.0->tensorboard~=2.4->tensorflow) (1.25.11)\n",
      "Requirement already satisfied: certifi>=2017.4.17 in /usr/local/anaconda3/envs/p8/lib/python3.8/site-packages (from requests<3,>=2.21.0->tensorboard~=2.4->tensorflow) (2020.12.5)\n",
      "Requirement already satisfied: oauthlib>=3.0.0 in /usr/local/anaconda3/envs/p8/lib/python3.8/site-packages (from requests-oauthlib>=0.7.0->google-auth-oauthlib<0.5,>=0.4.1->tensorboard~=2.4->tensorflow) (3.1.0)\n",
      "\u001b[33mWARNING: Error parsing requirements for pylev: [Errno 2] No such file or directory: '/usr/local/anaconda3/envs/p8/lib/python3.8/site-packages/pylev-1.3.0.dist-info/METADATA'\u001b[0m\n",
      "\u001b[33mWARNING: Error parsing requirements for cachecontrol: [Errno 2] No such file or directory: '/usr/local/anaconda3/envs/p8/lib/python3.8/site-packages/CacheControl-0.12.6.dist-info/METADATA'\u001b[0m\n",
      "\u001b[31mERROR: Could not find a version that satisfies the requirement tensorflow-gpu\u001b[0m\n",
      "\u001b[31mERROR: No matching distribution found for tensorflow-gpu\u001b[0m\n"
     ]
    }
   ],
   "source": [
    "!pip install tensorflow \n",
    "!pip install tensorflow-gpu"
   ]
  },
  {
   "cell_type": "markdown",
   "id": "378736dd",
   "metadata": {},
   "source": [
    "As of right now, need python < 3.8?  \n",
    "\n",
    "https://www.tensorflow.org/tutorials/quickstart/beginner  "
   ]
  },
  {
   "cell_type": "code",
   "execution_count": 13,
   "id": "647bb664",
   "metadata": {},
   "outputs": [],
   "source": [
    "# imports\n",
    "import tensorflow as tf"
   ]
  },
  {
   "cell_type": "markdown",
   "id": "4b76279e",
   "metadata": {},
   "source": [
    "### Keras\n",
    "Keras is an API designed for human beings, not machines. Keras follows best practices for reducing cognitive load: it offers consistent & simple APIs, it minimizes the number of user actions required for common use cases, and it provides clear & actionable error messages. It also has extensive documentation and developer guides. "
   ]
  },
  {
   "cell_type": "code",
   "execution_count": 14,
   "id": "cde6fb3e",
   "metadata": {},
   "outputs": [],
   "source": [
    "# load mnist data from tensorflow\n",
    "mnist = tf.keras.datasets.mnist"
   ]
  },
  {
   "cell_type": "code",
   "execution_count": 15,
   "id": "68a17d99",
   "metadata": {},
   "outputs": [],
   "source": [
    "# split into train and test\n",
    "(x_train, y_train), (x_test, y_test) = mnist.load_data()\n",
    "# convert samples from integers to floating-point\n",
    "x_train, x_test = x_train / 255.0, x_test / 255.0"
   ]
  },
  {
   "cell_type": "code",
   "execution_count": 16,
   "id": "d4a5ef7f",
   "metadata": {},
   "outputs": [
    {
     "data": {
      "text/plain": [
       "array([[0.        , 0.        , 0.        , 0.        , 0.        ,\n",
       "        0.        , 0.        , 0.        , 0.        , 0.        ,\n",
       "        0.        , 0.        , 0.        , 0.        , 0.        ,\n",
       "        0.        , 0.        , 0.        , 0.        , 0.        ,\n",
       "        0.        , 0.        , 0.        , 0.        , 0.        ,\n",
       "        0.        , 0.        , 0.        ],\n",
       "       [0.        , 0.        , 0.        , 0.        , 0.        ,\n",
       "        0.        , 0.        , 0.        , 0.        , 0.        ,\n",
       "        0.        , 0.        , 0.        , 0.        , 0.        ,\n",
       "        0.        , 0.        , 0.        , 0.        , 0.        ,\n",
       "        0.        , 0.        , 0.        , 0.        , 0.        ,\n",
       "        0.        , 0.        , 0.        ],\n",
       "       [0.        , 0.        , 0.        , 0.        , 0.        ,\n",
       "        0.        , 0.        , 0.        , 0.        , 0.        ,\n",
       "        0.        , 0.        , 0.        , 0.        , 0.        ,\n",
       "        0.        , 0.        , 0.        , 0.        , 0.        ,\n",
       "        0.        , 0.        , 0.        , 0.        , 0.        ,\n",
       "        0.        , 0.        , 0.        ],\n",
       "       [0.        , 0.        , 0.        , 0.        , 0.        ,\n",
       "        0.        , 0.        , 0.        , 0.        , 0.        ,\n",
       "        0.        , 0.        , 0.        , 0.        , 0.        ,\n",
       "        0.        , 0.        , 0.        , 0.        , 0.        ,\n",
       "        0.        , 0.        , 0.        , 0.        , 0.        ,\n",
       "        0.        , 0.        , 0.        ],\n",
       "       [0.        , 0.        , 0.        , 0.        , 0.        ,\n",
       "        0.        , 0.        , 0.        , 0.        , 0.        ,\n",
       "        0.        , 0.        , 0.        , 0.        , 0.        ,\n",
       "        0.        , 0.        , 0.        , 0.        , 0.        ,\n",
       "        0.        , 0.        , 0.        , 0.        , 0.        ,\n",
       "        0.        , 0.        , 0.        ],\n",
       "       [0.        , 0.        , 0.        , 0.        , 0.        ,\n",
       "        0.        , 0.        , 0.        , 0.        , 0.        ,\n",
       "        0.        , 0.        , 0.01176471, 0.07058824, 0.07058824,\n",
       "        0.07058824, 0.49411765, 0.53333333, 0.68627451, 0.10196078,\n",
       "        0.65098039, 1.        , 0.96862745, 0.49803922, 0.        ,\n",
       "        0.        , 0.        , 0.        ],\n",
       "       [0.        , 0.        , 0.        , 0.        , 0.        ,\n",
       "        0.        , 0.        , 0.        , 0.11764706, 0.14117647,\n",
       "        0.36862745, 0.60392157, 0.66666667, 0.99215686, 0.99215686,\n",
       "        0.99215686, 0.99215686, 0.99215686, 0.88235294, 0.6745098 ,\n",
       "        0.99215686, 0.94901961, 0.76470588, 0.25098039, 0.        ,\n",
       "        0.        , 0.        , 0.        ],\n",
       "       [0.        , 0.        , 0.        , 0.        , 0.        ,\n",
       "        0.        , 0.        , 0.19215686, 0.93333333, 0.99215686,\n",
       "        0.99215686, 0.99215686, 0.99215686, 0.99215686, 0.99215686,\n",
       "        0.99215686, 0.99215686, 0.98431373, 0.36470588, 0.32156863,\n",
       "        0.32156863, 0.21960784, 0.15294118, 0.        , 0.        ,\n",
       "        0.        , 0.        , 0.        ],\n",
       "       [0.        , 0.        , 0.        , 0.        , 0.        ,\n",
       "        0.        , 0.        , 0.07058824, 0.85882353, 0.99215686,\n",
       "        0.99215686, 0.99215686, 0.99215686, 0.99215686, 0.77647059,\n",
       "        0.71372549, 0.96862745, 0.94509804, 0.        , 0.        ,\n",
       "        0.        , 0.        , 0.        , 0.        , 0.        ,\n",
       "        0.        , 0.        , 0.        ],\n",
       "       [0.        , 0.        , 0.        , 0.        , 0.        ,\n",
       "        0.        , 0.        , 0.        , 0.31372549, 0.61176471,\n",
       "        0.41960784, 0.99215686, 0.99215686, 0.80392157, 0.04313725,\n",
       "        0.        , 0.16862745, 0.60392157, 0.        , 0.        ,\n",
       "        0.        , 0.        , 0.        , 0.        , 0.        ,\n",
       "        0.        , 0.        , 0.        ],\n",
       "       [0.        , 0.        , 0.        , 0.        , 0.        ,\n",
       "        0.        , 0.        , 0.        , 0.        , 0.05490196,\n",
       "        0.00392157, 0.60392157, 0.99215686, 0.35294118, 0.        ,\n",
       "        0.        , 0.        , 0.        , 0.        , 0.        ,\n",
       "        0.        , 0.        , 0.        , 0.        , 0.        ,\n",
       "        0.        , 0.        , 0.        ],\n",
       "       [0.        , 0.        , 0.        , 0.        , 0.        ,\n",
       "        0.        , 0.        , 0.        , 0.        , 0.        ,\n",
       "        0.        , 0.54509804, 0.99215686, 0.74509804, 0.00784314,\n",
       "        0.        , 0.        , 0.        , 0.        , 0.        ,\n",
       "        0.        , 0.        , 0.        , 0.        , 0.        ,\n",
       "        0.        , 0.        , 0.        ],\n",
       "       [0.        , 0.        , 0.        , 0.        , 0.        ,\n",
       "        0.        , 0.        , 0.        , 0.        , 0.        ,\n",
       "        0.        , 0.04313725, 0.74509804, 0.99215686, 0.2745098 ,\n",
       "        0.        , 0.        , 0.        , 0.        , 0.        ,\n",
       "        0.        , 0.        , 0.        , 0.        , 0.        ,\n",
       "        0.        , 0.        , 0.        ],\n",
       "       [0.        , 0.        , 0.        , 0.        , 0.        ,\n",
       "        0.        , 0.        , 0.        , 0.        , 0.        ,\n",
       "        0.        , 0.        , 0.1372549 , 0.94509804, 0.88235294,\n",
       "        0.62745098, 0.42352941, 0.00392157, 0.        , 0.        ,\n",
       "        0.        , 0.        , 0.        , 0.        , 0.        ,\n",
       "        0.        , 0.        , 0.        ],\n",
       "       [0.        , 0.        , 0.        , 0.        , 0.        ,\n",
       "        0.        , 0.        , 0.        , 0.        , 0.        ,\n",
       "        0.        , 0.        , 0.        , 0.31764706, 0.94117647,\n",
       "        0.99215686, 0.99215686, 0.46666667, 0.09803922, 0.        ,\n",
       "        0.        , 0.        , 0.        , 0.        , 0.        ,\n",
       "        0.        , 0.        , 0.        ],\n",
       "       [0.        , 0.        , 0.        , 0.        , 0.        ,\n",
       "        0.        , 0.        , 0.        , 0.        , 0.        ,\n",
       "        0.        , 0.        , 0.        , 0.        , 0.17647059,\n",
       "        0.72941176, 0.99215686, 0.99215686, 0.58823529, 0.10588235,\n",
       "        0.        , 0.        , 0.        , 0.        , 0.        ,\n",
       "        0.        , 0.        , 0.        ],\n",
       "       [0.        , 0.        , 0.        , 0.        , 0.        ,\n",
       "        0.        , 0.        , 0.        , 0.        , 0.        ,\n",
       "        0.        , 0.        , 0.        , 0.        , 0.        ,\n",
       "        0.0627451 , 0.36470588, 0.98823529, 0.99215686, 0.73333333,\n",
       "        0.        , 0.        , 0.        , 0.        , 0.        ,\n",
       "        0.        , 0.        , 0.        ],\n",
       "       [0.        , 0.        , 0.        , 0.        , 0.        ,\n",
       "        0.        , 0.        , 0.        , 0.        , 0.        ,\n",
       "        0.        , 0.        , 0.        , 0.        , 0.        ,\n",
       "        0.        , 0.        , 0.97647059, 0.99215686, 0.97647059,\n",
       "        0.25098039, 0.        , 0.        , 0.        , 0.        ,\n",
       "        0.        , 0.        , 0.        ],\n",
       "       [0.        , 0.        , 0.        , 0.        , 0.        ,\n",
       "        0.        , 0.        , 0.        , 0.        , 0.        ,\n",
       "        0.        , 0.        , 0.        , 0.        , 0.18039216,\n",
       "        0.50980392, 0.71764706, 0.99215686, 0.99215686, 0.81176471,\n",
       "        0.00784314, 0.        , 0.        , 0.        , 0.        ,\n",
       "        0.        , 0.        , 0.        ],\n",
       "       [0.        , 0.        , 0.        , 0.        , 0.        ,\n",
       "        0.        , 0.        , 0.        , 0.        , 0.        ,\n",
       "        0.        , 0.        , 0.15294118, 0.58039216, 0.89803922,\n",
       "        0.99215686, 0.99215686, 0.99215686, 0.98039216, 0.71372549,\n",
       "        0.        , 0.        , 0.        , 0.        , 0.        ,\n",
       "        0.        , 0.        , 0.        ],\n",
       "       [0.        , 0.        , 0.        , 0.        , 0.        ,\n",
       "        0.        , 0.        , 0.        , 0.        , 0.        ,\n",
       "        0.09411765, 0.44705882, 0.86666667, 0.99215686, 0.99215686,\n",
       "        0.99215686, 0.99215686, 0.78823529, 0.30588235, 0.        ,\n",
       "        0.        , 0.        , 0.        , 0.        , 0.        ,\n",
       "        0.        , 0.        , 0.        ],\n",
       "       [0.        , 0.        , 0.        , 0.        , 0.        ,\n",
       "        0.        , 0.        , 0.        , 0.09019608, 0.25882353,\n",
       "        0.83529412, 0.99215686, 0.99215686, 0.99215686, 0.99215686,\n",
       "        0.77647059, 0.31764706, 0.00784314, 0.        , 0.        ,\n",
       "        0.        , 0.        , 0.        , 0.        , 0.        ,\n",
       "        0.        , 0.        , 0.        ],\n",
       "       [0.        , 0.        , 0.        , 0.        , 0.        ,\n",
       "        0.        , 0.07058824, 0.67058824, 0.85882353, 0.99215686,\n",
       "        0.99215686, 0.99215686, 0.99215686, 0.76470588, 0.31372549,\n",
       "        0.03529412, 0.        , 0.        , 0.        , 0.        ,\n",
       "        0.        , 0.        , 0.        , 0.        , 0.        ,\n",
       "        0.        , 0.        , 0.        ],\n",
       "       [0.        , 0.        , 0.        , 0.        , 0.21568627,\n",
       "        0.6745098 , 0.88627451, 0.99215686, 0.99215686, 0.99215686,\n",
       "        0.99215686, 0.95686275, 0.52156863, 0.04313725, 0.        ,\n",
       "        0.        , 0.        , 0.        , 0.        , 0.        ,\n",
       "        0.        , 0.        , 0.        , 0.        , 0.        ,\n",
       "        0.        , 0.        , 0.        ],\n",
       "       [0.        , 0.        , 0.        , 0.        , 0.53333333,\n",
       "        0.99215686, 0.99215686, 0.99215686, 0.83137255, 0.52941176,\n",
       "        0.51764706, 0.0627451 , 0.        , 0.        , 0.        ,\n",
       "        0.        , 0.        , 0.        , 0.        , 0.        ,\n",
       "        0.        , 0.        , 0.        , 0.        , 0.        ,\n",
       "        0.        , 0.        , 0.        ],\n",
       "       [0.        , 0.        , 0.        , 0.        , 0.        ,\n",
       "        0.        , 0.        , 0.        , 0.        , 0.        ,\n",
       "        0.        , 0.        , 0.        , 0.        , 0.        ,\n",
       "        0.        , 0.        , 0.        , 0.        , 0.        ,\n",
       "        0.        , 0.        , 0.        , 0.        , 0.        ,\n",
       "        0.        , 0.        , 0.        ],\n",
       "       [0.        , 0.        , 0.        , 0.        , 0.        ,\n",
       "        0.        , 0.        , 0.        , 0.        , 0.        ,\n",
       "        0.        , 0.        , 0.        , 0.        , 0.        ,\n",
       "        0.        , 0.        , 0.        , 0.        , 0.        ,\n",
       "        0.        , 0.        , 0.        , 0.        , 0.        ,\n",
       "        0.        , 0.        , 0.        ],\n",
       "       [0.        , 0.        , 0.        , 0.        , 0.        ,\n",
       "        0.        , 0.        , 0.        , 0.        , 0.        ,\n",
       "        0.        , 0.        , 0.        , 0.        , 0.        ,\n",
       "        0.        , 0.        , 0.        , 0.        , 0.        ,\n",
       "        0.        , 0.        , 0.        , 0.        , 0.        ,\n",
       "        0.        , 0.        , 0.        ]])"
      ]
     },
     "execution_count": 16,
     "metadata": {},
     "output_type": "execute_result"
    }
   ],
   "source": [
    "# this time its 28x28 arrays\n",
    "x_train[0]"
   ]
  },
  {
   "cell_type": "code",
   "execution_count": 17,
   "id": "19fa37f5",
   "metadata": {},
   "outputs": [
    {
     "data": {
      "application/javascript": [
       "\n",
       "        if (window._pyforest_update_imports_cell) { window._pyforest_update_imports_cell('import numpy as np'); }\n",
       "    "
      ],
      "text/plain": [
       "<IPython.core.display.Javascript object>"
      ]
     },
     "metadata": {},
     "output_type": "display_data"
    },
    {
     "data": {
      "image/png": "[encoded data removed]",
      "text/plain": [
       "<Figure size 432x288 with 1 Axes>"
      ]
     },
     "metadata": {
      "needs_background": "light"
     },
     "output_type": "display_data"
    }
   ],
   "source": [
    "# Renders like this\n",
    "print_image(x_train[0])"
   ]
  },
  {
   "cell_type": "code",
   "execution_count": 18,
   "id": "7d0befac",
   "metadata": {},
   "outputs": [],
   "source": [
    "# start making model\n",
    "model = tf.keras.Sequential()"
   ]
  },
  {
   "cell_type": "code",
   "execution_count": 19,
   "id": "8840c0b6",
   "metadata": {},
   "outputs": [
    {
     "data": {
      "text/plain": [
       "(None, 784)"
      ]
     },
     "execution_count": 19,
     "metadata": {},
     "output_type": "execute_result"
    }
   ],
   "source": [
    "# First layer will flatten input to one dimensional array\n",
    "model.add(tf.keras.layers.Flatten(input_shape=(28, 28)))\n",
    "model.output_shape"
   ]
  },
  {
   "cell_type": "code",
   "execution_count": 20,
   "id": "e71b7b41",
   "metadata": {},
   "outputs": [
    {
     "data": {
      "text/plain": [
       "(None, 128)"
      ]
     },
     "execution_count": 20,
     "metadata": {},
     "output_type": "execute_result"
    }
   ],
   "source": [
    "# Add a layer with 128 neurons and activation function relu\n",
    "# this will be our hidden layer\n",
    "model.add(tf.keras.layers.Dense(128, activation='relu'))\n",
    "model.output_shape"
   ]
  },
  {
   "cell_type": "code",
   "execution_count": 21,
   "id": "8265deaa",
   "metadata": {},
   "outputs": [
    {
     "data": {
      "text/plain": [
       "(None, 128)"
      ]
     },
     "execution_count": 21,
     "metadata": {},
     "output_type": "execute_result"
    }
   ],
   "source": [
    "# Add dropout rate to randomly switch to 1 to avoid overfitting to training set\n",
    "model.add(tf.keras.layers.Dropout(0.2))\n",
    "model.output_shape"
   ]
  },
  {
   "cell_type": "code",
   "execution_count": 22,
   "id": "3a443c14",
   "metadata": {},
   "outputs": [
    {
     "data": {
      "text/plain": [
       "(None, 10)"
      ]
     },
     "execution_count": 22,
     "metadata": {},
     "output_type": "execute_result"
    }
   ],
   "source": [
    "# add final output layer\n",
    "model.add(tf.keras.layers.Dense(10))\n",
    "model.output_shape"
   ]
  },
  {
   "cell_type": "code",
   "execution_count": 23,
   "id": "c59fa645",
   "metadata": {},
   "outputs": [],
   "source": [
    "# or it can be all at once\n",
    "# build the tf.keras.Sequential model by stacking layers. Choose an optimizer and loss function for training\n",
    "model = tf.keras.models.Sequential([\n",
    "  tf.keras.layers.Flatten(input_shape=(28, 28)),\n",
    "  tf.keras.layers.Dense(128, activation='relu'),\n",
    "  tf.keras.layers.Dropout(0.2),\n",
    "  tf.keras.layers.Dense(10)\n",
    "])"
   ]
  },
  {
   "cell_type": "code",
   "execution_count": 24,
   "id": "6fc5b7f2",
   "metadata": {},
   "outputs": [
    {
     "data": {
      "text/plain": [
       "array([[-0.61939657,  0.27974933, -0.41479334, -0.13407737,  0.6504202 ,\n",
       "        -0.0036221 ,  0.30441144, -0.29700962,  0.02284593, -0.25514203]],\n",
       "      dtype=float32)"
      ]
     },
     "execution_count": 24,
     "metadata": {},
     "output_type": "execute_result"
    }
   ],
   "source": [
    "# For each example the model returns a vector of \"logits\" or \"log-odds\" scores, one for each class.\n",
    "predictions = model(x_train[:1]).numpy()\n",
    "predictions"
   ]
  },
  {
   "cell_type": "code",
   "execution_count": 25,
   "id": "1bb64ea4",
   "metadata": {},
   "outputs": [
    {
     "data": {
      "text/plain": [
       "array([[0.05274265, 0.12961525, 0.06471724, 0.08569065, 0.1877744 ,\n",
       "        0.09763138, 0.13285157, 0.07280695, 0.10024999, 0.07591992]],\n",
       "      dtype=float32)"
      ]
     },
     "execution_count": 25,
     "metadata": {},
     "output_type": "execute_result"
    }
   ],
   "source": [
    "# The tf.nn.softmax function converts these logits to \"probabilities\" for each class\n",
    "tf.nn.softmax(predictions).numpy()"
   ]
  },
  {
   "cell_type": "code",
   "execution_count": 26,
   "id": "92df71d4",
   "metadata": {},
   "outputs": [
    {
     "data": {
      "text/plain": [
       "2.3265564"
      ]
     },
     "execution_count": 26,
     "metadata": {},
     "output_type": "execute_result"
    }
   ],
   "source": [
    "# losses.SparseCategoricalCrossentropy loss takes a vector of logits and a True index and returns a scalar loss for each example.\n",
    "loss_fn = tf.keras.losses.SparseCategoricalCrossentropy(from_logits=True)\n",
    "loss_fn(y_train[:1], predictions).numpy()"
   ]
  },
  {
   "cell_type": "code",
   "execution_count": 27,
   "id": "5fb16605",
   "metadata": {},
   "outputs": [],
   "source": [
    "# Lazy eval so we compile then train the model\n",
    "model.compile(optimizer='adam',\n",
    "              loss=loss_fn,\n",
    "              metrics=['accuracy'])"
   ]
  },
  {
   "cell_type": "code",
   "execution_count": 28,
   "id": "cd70a4e1",
   "metadata": {},
   "outputs": [
    {
     "name": "stdout",
     "output_type": "stream",
     "text": [
      "Epoch 1/5\n",
      "1875/1875 [==============================] - 2s 721us/step - loss: 0.4799 - accuracy: 0.8615\n",
      "Epoch 2/5\n",
      "1875/1875 [==============================] - 1s 714us/step - loss: 0.1533 - accuracy: 0.9544\n",
      "Epoch 3/5\n",
      "1875/1875 [==============================] - 1s 715us/step - loss: 0.1101 - accuracy: 0.9669\n",
      "Epoch 4/5\n",
      "1875/1875 [==============================] - 1s 707us/step - loss: 0.0863 - accuracy: 0.9730\n",
      "Epoch 5/5\n",
      "1875/1875 [==============================] - 1s 707us/step - loss: 0.0723 - accuracy: 0.9769\n"
     ]
    },
    {
     "data": {
      "text/plain": [
       "<tensorflow.python.keras.callbacks.History at 0x7fc7ed2081c0>"
      ]
     },
     "execution_count": 28,
     "metadata": {},
     "output_type": "execute_result"
    }
   ],
   "source": [
    "# Model.fit method adjusts the model parameters to minimize the loss:\n",
    "model.fit(x_train, y_train, epochs=5)"
   ]
  },
  {
   "cell_type": "code",
   "execution_count": 29,
   "id": "41ac51f1",
   "metadata": {},
   "outputs": [
    {
     "name": "stdout",
     "output_type": "stream",
     "text": [
      "313/313 - 0s - loss: 0.0716 - accuracy: 0.9780\n"
     ]
    },
    {
     "data": {
      "text/plain": [
       "[0.0715661495923996, 0.9779999852180481]"
      ]
     },
     "execution_count": 29,
     "metadata": {},
     "output_type": "execute_result"
    }
   ],
   "source": [
    "# Model.evaluate method checks the models performance, usually on a \"Validation-set\" or \"Test-set\".\n",
    "model.evaluate(x_test,  y_test, verbose=2)"
   ]
  },
  {
   "cell_type": "code",
   "execution_count": 30,
   "id": "acde7472",
   "metadata": {},
   "outputs": [
    {
     "data": {
      "text/plain": [
       "<tf.Tensor: shape=(10000, 10), dtype=float32, numpy=\n",
       "array([[8.65683560e-08, 2.44320280e-08, 7.09587084e-06, ...,\n",
       "        9.99902248e-01, 1.42574450e-07, 1.10826786e-05],\n",
       "       [1.01358239e-07, 3.37623147e-04, 9.99651074e-01, ...,\n",
       "        1.28162776e-11, 1.29213277e-06, 5.49987742e-14],\n",
       "       [1.20622531e-07, 9.98802304e-01, 5.83469664e-05, ...,\n",
       "        1.03990175e-03, 7.29949461e-05, 2.74959916e-07],\n",
       "       ...,\n",
       "       [5.15747601e-13, 4.83624640e-10, 6.38922915e-10, ...,\n",
       "        4.70063424e-06, 1.03975560e-06, 1.74771805e-04],\n",
       "       [3.52037937e-08, 2.61237143e-10, 3.53243518e-10, ...,\n",
       "        1.42618205e-07, 4.42764111e-04, 4.23075264e-08],\n",
       "       [2.31410429e-08, 2.19658913e-09, 6.09684179e-08, ...,\n",
       "        3.96978804e-12, 1.15091288e-08, 1.15729876e-12]], dtype=float32)>"
      ]
     },
     "execution_count": 30,
     "metadata": {},
     "output_type": "execute_result"
    }
   ],
   "source": [
    "probability_model = tf.keras.Sequential([\n",
    "  model,\n",
    "  tf.keras.layers.Softmax()\n",
    "])\n",
    "out=probability_model(x_test)\n",
    "out"
   ]
  },
  {
   "cell_type": "code",
   "execution_count": 31,
   "id": "badf350b",
   "metadata": {},
   "outputs": [
    {
     "data": {
      "application/javascript": [
       "\n",
       "        if (window._pyforest_update_imports_cell) { window._pyforest_update_imports_cell('import numpy as np'); }\n",
       "    "
      ],
      "text/plain": [
       "<IPython.core.display.Javascript object>"
      ]
     },
     "metadata": {},
     "output_type": "display_data"
    },
    {
     "data": {
      "image/png": "[encoded data removed]",
      "text/plain": [
       "<Figure size 432x288 with 1 Axes>"
      ]
     },
     "metadata": {
      "needs_background": "light"
     },
     "output_type": "display_data"
    },
    {
     "name": "stdout",
     "output_type": "stream",
     "text": [
      "array([8.6568356e-08, 2.4432028e-08, 7.0958708e-06, 7.8884143e-05,\n",
      "       4.9961184e-11, 4.9335165e-07, 5.1049707e-14, 9.9990225e-01,\n",
      "       1.4257445e-07, 1.1082679e-05], dtype=float32)\n"
     ]
    },
    {
     "data": {
      "application/javascript": [
       "\n",
       "        if (window._pyforest_update_imports_cell) { window._pyforest_update_imports_cell('import numpy as np'); }\n",
       "    "
      ],
      "text/plain": [
       "<IPython.core.display.Javascript object>"
      ]
     },
     "metadata": {},
     "output_type": "display_data"
    },
    {
     "data": {
      "image/png": "[encoded data removed]",
      "text/plain": [
       "<Figure size 432x288 with 1 Axes>"
      ]
     },
     "metadata": {
      "needs_background": "light"
     },
     "output_type": "display_data"
    },
    {
     "name": "stdout",
     "output_type": "stream",
     "text": [
      "array([1.01358239e-07, 3.37623147e-04, 9.99651074e-01, 9.37890763e-06,\n",
      "       2.21401165e-14, 4.42782579e-07, 8.32464142e-09, 1.28162776e-11,\n",
      "       1.29213277e-06, 5.49987742e-14], dtype=float32)\n"
     ]
    },
    {
     "data": {
      "application/javascript": [
       "\n",
       "        if (window._pyforest_update_imports_cell) { window._pyforest_update_imports_cell('import numpy as np'); }\n",
       "    "
      ],
      "text/plain": [
       "<IPython.core.display.Javascript object>"
      ]
     },
     "metadata": {},
     "output_type": "display_data"
    },
    {
     "data": {
      "image/png": "[encoded data removed]",
      "text/plain": [
       "<Figure size 432x288 with 1 Axes>"
      ]
     },
     "metadata": {
      "needs_background": "light"
     },
     "output_type": "display_data"
    },
    {
     "name": "stdout",
     "output_type": "stream",
     "text": [
      "array([1.2062253e-07, 9.9880230e-01, 5.8346966e-05, 8.7651706e-06,\n",
      "       1.1187179e-05, 3.0292372e-06, 3.2011146e-06, 1.0399017e-03,\n",
      "       7.2994946e-05, 2.7495992e-07], dtype=float32)\n"
     ]
    }
   ],
   "source": [
    "from pprint import pprint\n",
    "for i in range(0,3):\n",
    "    print_image(x_test[i])\n",
    "    pprint(out.numpy()[i])"
   ]
  },
  {
   "cell_type": "markdown",
   "id": "07f2bbab",
   "metadata": {},
   "source": [
    "# Tensorboard\n",
    "Tool for providing the measurements and visualizations needed during the machine learning workflow. It enables tracking experiment metrics like loss and accuracy, visualizing the model graph, projecting embeddings to a lower dimensional space, and much more.  \n",
    "\n",
    "https://www.tensorflow.org/tensorboard/get_started"
   ]
  },
  {
   "cell_type": "code",
   "execution_count": 32,
   "id": "2bfb47eb",
   "metadata": {},
   "outputs": [],
   "source": [
    "%load_ext tensorboard\n",
    "import datetime"
   ]
  },
  {
   "cell_type": "code",
   "execution_count": 33,
   "id": "f7c24b77",
   "metadata": {},
   "outputs": [],
   "source": [
    "log_dir = \"logs/fit/\" + datetime.datetime.now().strftime(\"%Y%m%d-%H%M%S\")\n",
    "tensorboard_callback = tf.keras.callbacks.TensorBoard(log_dir=log_dir, histogram_freq=1)"
   ]
  },
  {
   "cell_type": "code",
   "execution_count": 34,
   "id": "a764e116",
   "metadata": {},
   "outputs": [
    {
     "name": "stdout",
     "output_type": "stream",
     "text": [
      "Epoch 1/5\n",
      "1875/1875 [==============================] - 1s 750us/step - loss: 0.0653 - accuracy: 0.9790\n",
      "Epoch 2/5\n",
      "1875/1875 [==============================] - 1s 718us/step - loss: 0.0568 - accuracy: 0.9817\n",
      "Epoch 3/5\n",
      "1875/1875 [==============================] - 1s 731us/step - loss: 0.0535 - accuracy: 0.9826\n",
      "Epoch 4/5\n",
      "1875/1875 [==============================] - 1s 716us/step - loss: 0.0491 - accuracy: 0.9841\n",
      "Epoch 5/5\n",
      "1875/1875 [==============================] - 1s 716us/step - loss: 0.0428 - accuracy: 0.9863\n"
     ]
    },
    {
     "data": {
      "text/plain": [
       "<tensorflow.python.keras.callbacks.History at 0x7fc7efb9cf70>"
      ]
     },
     "execution_count": 34,
     "metadata": {},
     "output_type": "execute_result"
    }
   ],
   "source": [
    "model.fit(x_train, y_train, epochs=5, callbacks=[tensorboard_callback])"
   ]
  },
  {
   "cell_type": "code",
   "execution_count": 35,
   "id": "581547b2",
   "metadata": {},
   "outputs": [
    {
     "data": {
      "text/html": [
       "\n",
       "      <iframe id=\"tensorboard-frame-79a54dd11a79d2ba\" width=\"100%\" height=\"800\" frameborder=\"0\">\n",
       "      </iframe>\n",
       "      <script>\n",
       "        (function() {\n",
       "          const frame = document.getElementById(\"tensorboard-frame-79a54dd11a79d2ba\");\n",
       "          const url = new URL(\"/\", window.location);\n",
       "          const port = 6006;\n",
       "          if (port) {\n",
       "            url.port = port;\n",
       "          }\n",
       "          frame.src = url;\n",
       "        })();\n",
       "      </script>\n",
       "    "
      ],
      "text/plain": [
       "<IPython.core.display.HTML object>"
      ]
     },
     "metadata": {},
     "output_type": "display_data"
    }
   ],
   "source": [
    "%tensorboard --logdir logs/fit"
   ]
  },
  {
   "cell_type": "markdown",
   "id": "52cdd9eb",
   "metadata": {},
   "source": [
    "## How many layers and neurons?"
   ]
  },
  {
   "cell_type": "code",
   "execution_count": 36,
   "id": "b85583bc",
   "metadata": {},
   "outputs": [],
   "source": [
    "from sklearn.exceptions import ConvergenceWarning\n",
    "import warnings\n",
    "import time\n",
    "\n",
    "output = {}\n",
    "output['time']=[]\n",
    "output['loss']=[]\n",
    "output['train_accuracy']=[]\n",
    "output['test_accuracy']=[]\n",
    "\n",
    "layer_experiments=[\n",
    "    (5,),\n",
    "    (50,),\n",
    "    (128,),\n",
    "    (50,50,),\n",
    "    (128,128),\n",
    "    (50,50,50,),\n",
    "    (128,128,128,),\n",
    "    ]"
   ]
  },
  {
   "cell_type": "code",
   "execution_count": 37,
   "id": "7211854a",
   "metadata": {},
   "outputs": [
    {
     "name": "stdout",
     "output_type": "stream",
     "text": [
      "Round 1 of 7: (5,)\n",
      "Iteration 1, loss = 0.98048278\n",
      "Iteration 2, loss = 0.79097252\n",
      "Iteration 3, loss = 0.74072976\n",
      "Iteration 4, loss = 0.70167581\n",
      "Iteration 5, loss = 0.68090047\n",
      "Iteration 6, loss = 0.66472898\n",
      "Iteration 7, loss = 0.65537829\n",
      "Iteration 8, loss = 0.64578418\n",
      "Iteration 9, loss = 0.64237009\n",
      "Iteration 10, loss = 0.63797582\n",
      "Round 2 of 7: (50,)\n",
      "Iteration 1, loss = 0.32009978\n",
      "Iteration 2, loss = 0.15347534\n",
      "Iteration 3, loss = 0.11544755\n",
      "Iteration 4, loss = 0.09279764\n",
      "Iteration 5, loss = 0.07889367\n",
      "Iteration 6, loss = 0.07170497\n",
      "Iteration 7, loss = 0.06282111\n",
      "Iteration 8, loss = 0.05530788\n",
      "Iteration 9, loss = 0.04960484\n",
      "Iteration 10, loss = 0.04645355\n",
      "Round 3 of 7: (128,)\n",
      "Iteration 1, loss = 0.28744370\n",
      "Iteration 2, loss = 0.11990822\n",
      "Iteration 3, loss = 0.08360751\n",
      "Iteration 4, loss = 0.06475769\n",
      "Iteration 5, loss = 0.05299574\n",
      "Iteration 6, loss = 0.04294585\n",
      "Iteration 7, loss = 0.03563957\n",
      "Iteration 8, loss = 0.02964551\n",
      "Iteration 9, loss = 0.02393952\n",
      "Iteration 10, loss = 0.02023260\n",
      "Round 4 of 7: (50, 50)\n",
      "Iteration 1, loss = 0.31433496\n",
      "Iteration 2, loss = 0.13096526\n",
      "Iteration 3, loss = 0.09746443\n",
      "Iteration 4, loss = 0.08289663\n",
      "Iteration 5, loss = 0.06756179\n",
      "Iteration 6, loss = 0.06050956\n",
      "Iteration 7, loss = 0.05404734\n",
      "Iteration 8, loss = 0.04829666\n",
      "Iteration 9, loss = 0.04256343\n",
      "Iteration 10, loss = 0.04180814\n",
      "Round 5 of 7: (128, 128)\n",
      "Iteration 1, loss = 0.27634316\n",
      "Iteration 2, loss = 0.10165502\n",
      "Iteration 3, loss = 0.07026009\n",
      "Iteration 4, loss = 0.05533481\n",
      "Iteration 5, loss = 0.04194998\n",
      "Iteration 6, loss = 0.03219081\n",
      "Iteration 7, loss = 0.02611635\n",
      "Iteration 8, loss = 0.02104327\n",
      "Iteration 9, loss = 0.01724608\n",
      "Iteration 10, loss = 0.01477986\n",
      "Round 6 of 7: (50, 50, 50)\n",
      "Iteration 1, loss = 0.34132625\n",
      "Iteration 2, loss = 0.13385624\n",
      "Iteration 3, loss = 0.10517005\n",
      "Iteration 4, loss = 0.08661185\n",
      "Iteration 5, loss = 0.07296673\n",
      "Iteration 6, loss = 0.06607626\n",
      "Iteration 7, loss = 0.05712624\n",
      "Iteration 8, loss = 0.05096139\n",
      "Iteration 9, loss = 0.04894500\n",
      "Iteration 10, loss = 0.04172744\n",
      "Round 7 of 7: (128, 128, 128)\n",
      "Iteration 1, loss = 0.28980699\n",
      "Iteration 2, loss = 0.10456973\n",
      "Iteration 3, loss = 0.07702714\n",
      "Iteration 4, loss = 0.06045539\n",
      "Iteration 5, loss = 0.04589022\n",
      "Iteration 6, loss = 0.03973392\n",
      "Iteration 7, loss = 0.03436564\n",
      "Iteration 8, loss = 0.02527334\n",
      "Iteration 9, loss = 0.02285442\n",
      "Iteration 10, loss = 0.02222878\n"
     ]
    }
   ],
   "source": [
    "with warnings.catch_warnings():\n",
    "    warnings.filterwarnings(\"ignore\", category=ConvergenceWarning,\n",
    "                            module=\"sklearn\")\n",
    "    for i in range(0,len(layer_experiments)):\n",
    "        print(f\"Round {i+1} of {len(layer_experiments)}: {layer_experiments[i]}\")\n",
    "        mlp = MLPClassifier(hidden_layer_sizes=layer_experiments[i], max_iter=10, alpha=1e-4,\n",
    "                    solver='sgd', verbose=10, random_state=1,\n",
    "                    learning_rate_init=.1)\n",
    "        tic = time.perf_counter()\n",
    "        mlp.fit(X_train, y_train)\n",
    "        toc = time.perf_counter()\n",
    "        output['time'].append(f\"{toc - tic:0.4f}\")\n",
    "        output['loss'].append(mlp.loss_curve_)\n",
    "        output['train_accuracy'].append(mlp.score(X_train, y_train))\n",
    "        output['test_accuracy'].append(mlp.score(X_test, y_test))"
   ]
  },
  {
   "cell_type": "code",
   "execution_count": 40,
   "id": "884fb043",
   "metadata": {},
   "outputs": [
    {
     "name": "stdout",
     "output_type": "stream",
     "text": [
      "['9.4967', '10.9891', '14.1961', '13.2121', '18.4855', '21.7815', '27.7948']\n"
     ]
    },
    {
     "data": {
      "text/plain": [
       "[<matplotlib.lines.Line2D at 0x7fc7c98ccbb0>]"
      ]
     },
     "execution_count": 40,
     "metadata": {},
     "output_type": "execute_result"
    },
    {
     "data": {
      "image/png": "[encoded data removed]",
      "text/plain": [
       "<Figure size 432x288 with 1 Axes>"
      ]
     },
     "metadata": {
      "needs_background": "light"
     },
     "output_type": "display_data"
    }
   ],
   "source": [
    "pprint(output['time'])\n",
    "\n",
    "plt.plot(sorted([float(x) for x in output['time']]))"
   ]
  },
  {
   "cell_type": "code",
   "execution_count": 130,
   "id": "851c7e36",
   "metadata": {},
   "outputs": [
    {
     "name": "stdout",
     "output_type": "stream",
     "text": [
      "[0.9804827816166694, 0.7909725209092481, 0.7407297611043401, 0.7016758087516763, 0.6809004740615359, 0.6647289763570472, 0.6553782860527652, 0.6457841750558339, 0.6423700905505243, 0.6379758154261937]\n",
      "[0.320099781583207, 0.153475340038357, 0.11544755277174389, 0.09279763538206452, 0.07889366742177356, 0.07170496894018964, 0.06282110928940321, 0.055307878371908724, 0.04960484259407232, 0.046453546641754835]\n",
      "[0.28744370092487564, 0.11990822115290328, 0.083607514944863, 0.06475768889903513, 0.05299573808454009, 0.04294584522677833, 0.035639567548393335, 0.02964550898323996, 0.023939522030526673, 0.020232598068831324]\n",
      "[0.31433495778160103, 0.13096525759747937, 0.09746443094258832, 0.08289663202607804, 0.06756178505119934, 0.06050956012768308, 0.054047344492746986, 0.04829665511044302, 0.04256342591973962, 0.04180813524200569]\n",
      "[0.2763431584096857, 0.10165501543684366, 0.0702600947242054, 0.055334811841269586, 0.04194998113123063, 0.032190812358768674, 0.026116345305847007, 0.021043272363747402, 0.017246081777260686, 0.014779861451850701]\n",
      "[0.3413262461370636, 0.13385623805894556, 0.10517005165939765, 0.0866118488009572, 0.07296672628758433, 0.06607625803412503, 0.05712623840107546, 0.05096139301528417, 0.04894499630700852, 0.04172743703680569]\n",
      "[0.28980698669454347, 0.10456972952998964, 0.0770271384916873, 0.06045538530134283, 0.045890217401203526, 0.039733920800275054, 0.0343656393245394, 0.0252733435117053, 0.022854417083229855, 0.022228775806589718]\n"
     ]
    },
    {
     "data": {
      "image/png": "[encoded data removed]",
      "text/plain": [
       "<Figure size 432x288 with 1 Axes>"
      ]
     },
     "metadata": {
      "needs_background": "light"
     },
     "output_type": "display_data"
    }
   ],
   "source": [
    "plt.figure()\n",
    "for l in output['loss']:\n",
    "    print(l) \n",
    "    plt.plot(l)\n",
    "plt.show()"
   ]
  },
  {
   "cell_type": "code",
   "execution_count": 135,
   "id": "c51c985e",
   "metadata": {},
   "outputs": [
    {
     "name": "stdout",
     "output_type": "stream",
     "text": [
      "[0.8071833333333334,\n",
      " 0.9868,\n",
      " 0.9971166666666667,\n",
      " 0.9885833333333334,\n",
      " 0.9968666666666667,\n",
      " 0.9900333333333333,\n",
      " 0.99135]\n"
     ]
    },
    {
     "data": {
      "text/plain": [
       "[<matplotlib.lines.Line2D at 0x7f8dc47fe1f0>]"
      ]
     },
     "execution_count": 135,
     "metadata": {},
     "output_type": "execute_result"
    },
    {
     "data": {
      "image/png": "[encoded data removed]",
      "text/plain": [
       "<Figure size 432x288 with 1 Axes>"
      ]
     },
     "metadata": {
      "needs_background": "light"
     },
     "output_type": "display_data"
    }
   ],
   "source": [
    "pprint(output['train_accuracy'])\n",
    "plt.plot(output['train_accuracy'])"
   ]
  },
  {
   "cell_type": "code",
   "execution_count": 136,
   "id": "19507d47",
   "metadata": {},
   "outputs": [
    {
     "data": {
      "image/png": "[encoded data removed]",
      "text/plain": [
       "<Figure size 432x288 with 1 Axes>"
      ]
     },
     "metadata": {
      "needs_background": "light"
     },
     "output_type": "display_data"
    }
   ],
   "source": [
    "plt.figure()\n",
    "plt.plot(output['train_accuracy'])\n",
    "plt.plot(output['test_accuracy'])\n",
    "plt.show()"
   ]
  },
  {
   "cell_type": "markdown",
   "id": "62179005",
   "metadata": {},
   "source": [
    "## Tensorflow stock prediction\n",
    "Based on https://www.thepythoncode.com/article/stock-price-prediction-in-python-using-tensorflow-2-and-keras"
   ]
  },
  {
   "cell_type": "code",
   "execution_count": 10,
   "id": "ba2615d5",
   "metadata": {},
   "outputs": [],
   "source": [
    "import tensorflow as tf\n",
    "from tensorflow.keras.models import Sequential\n",
    "from tensorflow.keras.layers import LSTM, Dense, Dropout, Bidirectional\n",
    "from tensorflow.keras.callbacks import ModelCheckpoint, TensorBoard\n",
    "from sklearn import preprocessing\n",
    "from sklearn.model_selection import train_test_split\n",
    "from collections import deque\n",
    "\n",
    "import csv\n",
    "import matplotlib.pyplot as plt\n",
    "import numpy as np\n",
    "import os\n",
    "import pandas as pd\n",
    "import random\n",
    "import tensorflow as tf\n",
    "import yfinance as yf\n",
    "\n",
    "from datetime import date\n",
    "from pprint import pformat, pprint"
   ]
  },
  {
   "cell_type": "code",
   "execution_count": 16,
   "id": "43273642",
   "metadata": {},
   "outputs": [],
   "source": [
    "# Setup globals and constants\n",
    "ticker = \"IBM\"\n",
    "LIMIT =500\n",
    "sp500_file = 'constituents.bak.csv'\n",
    "date_format = '%Y-%m-%d %H:%M:%S'\n",
    "today = date.today().strftime(date_format)\n",
    "\n",
    "sp500_list = []\n",
    "sp500_history_dict = {}\n",
    "sp500_history_df = {}"
   ]
  },
  {
   "cell_type": "code",
   "execution_count": 17,
   "id": "2b9f95c5",
   "metadata": {},
   "outputs": [
    {
     "name": "stdout",
     "output_type": "stream",
     "text": [
      "[['MMM', '3M Company', 'Industrials'],\n",
      " ['AOS', 'A.O. Smith Corp', 'Industrials'],\n",
      " ['ABT', 'Abbott Laboratories', 'Health Care'],\n",
      " ['ABBV', 'AbbVie Inc.', 'Health Care'],\n",
      " ['ABMD', 'Abiomed', 'Health Care'],\n",
      " ['ACN', 'Accenture', 'Information Technology'],\n",
      " ['ATVI', 'Activision Blizzard', 'Communication Services'],\n",
      " ['ADBE', 'Adobe Inc.', 'Information Technology'],\n",
      " ['AAP', 'Advance Auto Parts', 'Consumer Discretionary'],\n",
      " ['AMD', 'Advanced Micro Devices', 'Information Technology']]\n"
     ]
    }
   ],
   "source": [
    "# Read in S&P500 list\n",
    "if os.path.exists(sp500_file):\n",
    "    with open(sp500_file, 'r') as f:\n",
    "        sp500_reader = csv.reader(f)\n",
    "        for i, row in enumerate(sp500_reader):\n",
    "            if i != 0:\n",
    "                sp500_list.append(row)\n",
    "else:\n",
    "    print(f\"ERROR!!! Cannot find {sp500_file}\")\n",
    "    exit(-1)\n",
    "\n",
    "pprint(sp500_list[:10])"
   ]
  },
  {
   "cell_type": "code",
   "execution_count": 18,
   "id": "82b0133f",
   "metadata": {},
   "outputs": [
    {
     "name": "stdout",
     "output_type": "stream",
     "text": [
      "500\n"
     ]
    }
   ],
   "source": [
    "# Get data from yahoo for each symbol\n",
    "for i, r in enumerate(sp500_list[:LIMIT]):\n",
    "    symbol = r[0]\n",
    "    sp500_history_dict[symbol] = yf.Ticker(symbol.replace(\".\",\"-\")).history(period=\"max\")\n",
    "    sp500_history_dict[symbol].index = sp500_history_dict[symbol].index.strftime(\"%Y-%m-%d\")\n",
    "    sp500_history_dict[symbol] = sp500_history_dict[symbol].to_dict(\"index\")\n",
    "    rec = {\"symbol\":symbol, \"data\":sp500_history_dict[symbol]}\n",
    "print(len(sp500_history_dict))"
   ]
  },
  {
   "cell_type": "code",
   "execution_count": 24,
   "id": "4a16000e",
   "metadata": {},
   "outputs": [
    {
     "data": {
      "text/html": [
       "<div>\n",
       "<style scoped>\n",
       "    .dataframe tbody tr th:only-of-type {\n",
       "        vertical-align: middle;\n",
       "    }\n",
       "\n",
       "    .dataframe tbody tr th {\n",
       "        vertical-align: top;\n",
       "    }\n",
       "\n",
       "    .dataframe thead th {\n",
       "        text-align: right;\n",
       "    }\n",
       "</style>\n",
       "<table border=\"1\" class=\"dataframe\">\n",
       "  <thead>\n",
       "    <tr style=\"text-align: right;\">\n",
       "      <th></th>\n",
       "      <th>Open</th>\n",
       "      <th>High</th>\n",
       "      <th>Low</th>\n",
       "      <th>Close</th>\n",
       "      <th>Volume</th>\n",
       "      <th>Dividends</th>\n",
       "      <th>Stock Splits</th>\n",
       "    </tr>\n",
       "    <tr>\n",
       "      <th>Date</th>\n",
       "      <th></th>\n",
       "      <th></th>\n",
       "      <th></th>\n",
       "      <th></th>\n",
       "      <th></th>\n",
       "      <th></th>\n",
       "      <th></th>\n",
       "    </tr>\n",
       "  </thead>\n",
       "  <tbody>\n",
       "    <tr>\n",
       "      <th>2011-10-13</th>\n",
       "      <td>20.545844</td>\n",
       "      <td>21.219049</td>\n",
       "      <td>20.108699</td>\n",
       "      <td>21.201563</td>\n",
       "      <td>396800</td>\n",
       "      <td>0.0</td>\n",
       "      <td>0</td>\n",
       "    </tr>\n",
       "    <tr>\n",
       "      <th>2011-10-14</th>\n",
       "      <td>21.297740</td>\n",
       "      <td>22.285688</td>\n",
       "      <td>21.297740</td>\n",
       "      <td>22.163288</td>\n",
       "      <td>402600</td>\n",
       "      <td>0.0</td>\n",
       "      <td>0</td>\n",
       "    </tr>\n",
       "    <tr>\n",
       "      <th>2011-10-17</th>\n",
       "      <td>22.294429</td>\n",
       "      <td>22.556715</td>\n",
       "      <td>21.997169</td>\n",
       "      <td>21.997169</td>\n",
       "      <td>583400</td>\n",
       "      <td>0.0</td>\n",
       "      <td>0</td>\n",
       "    </tr>\n",
       "    <tr>\n",
       "      <th>2011-10-18</th>\n",
       "      <td>21.909734</td>\n",
       "      <td>22.172022</td>\n",
       "      <td>21.769847</td>\n",
       "      <td>22.067106</td>\n",
       "      <td>423500</td>\n",
       "      <td>0.0</td>\n",
       "      <td>0</td>\n",
       "    </tr>\n",
       "    <tr>\n",
       "      <th>2011-10-19</th>\n",
       "      <td>22.075854</td>\n",
       "      <td>22.163283</td>\n",
       "      <td>21.638708</td>\n",
       "      <td>21.638708</td>\n",
       "      <td>722200</td>\n",
       "      <td>0.0</td>\n",
       "      <td>0</td>\n",
       "    </tr>\n",
       "  </tbody>\n",
       "</table>\n",
       "</div>"
      ],
      "text/plain": [
       "                 Open       High        Low      Close  Volume  Dividends  \\\n",
       "Date                                                                        \n",
       "2011-10-13  20.545844  21.219049  20.108699  21.201563  396800        0.0   \n",
       "2011-10-14  21.297740  22.285688  21.297740  22.163288  402600        0.0   \n",
       "2011-10-17  22.294429  22.556715  21.997169  21.997169  583400        0.0   \n",
       "2011-10-18  21.909734  22.172022  21.769847  22.067106  423500        0.0   \n",
       "2011-10-19  22.075854  22.163283  21.638708  21.638708  722200        0.0   \n",
       "\n",
       "            Stock Splits  \n",
       "Date                      \n",
       "2011-10-13             0  \n",
       "2011-10-14             0  \n",
       "2011-10-17             0  \n",
       "2011-10-18             0  \n",
       "2011-10-19             0  "
      ]
     },
     "execution_count": 24,
     "metadata": {},
     "output_type": "execute_result"
    }
   ],
   "source": [
    "# For each returned dataset, turn it into a pandas dataframe\n",
    "for symbol in sp500_list[:LIMIT]:\n",
    "    symbol = symbol[0]\n",
    "    df = pd.DataFrame.from_dict(sp500_history_dict[symbol], orient='index')\n",
    "    df.reset_index(inplace=True)\n",
    "    df = df.rename(columns = {'index':'Date'})\n",
    "    df = df.set_index('Date')\n",
    "    sp500_history_df[symbol] = df\n",
    "# print head of last df for verification\n",
    "sp500_history_df[symbol].head()"
   ]
  },
  {
   "cell_type": "code",
   "execution_count": 25,
   "id": "61cd8047",
   "metadata": {},
   "outputs": [
    {
     "data": {
      "text/plain": [
       "[<matplotlib.lines.Line2D at 0x7feedee9b5d0>]"
      ]
     },
     "execution_count": 25,
     "metadata": {},
     "output_type": "execute_result"
    },
    {
     "data": {
      "image/png": "[encoded data removed]",
      "text/plain": [
       "<Figure size 432x288 with 1 Axes>"
      ]
     },
     "metadata": {
      "needs_background": "light"
     },
     "output_type": "display_data"
    }
   ],
   "source": [
    "# Plot close values dor a single ticker\n",
    "data = sp500_history_df[ticker].Close.values\n",
    "plt.plot(data)"
   ]
  },
  {
   "cell_type": "code",
   "execution_count": 26,
   "id": "68d35145",
   "metadata": {},
   "outputs": [
    {
     "data": {
      "image/png": "[encoded data removed]",
      "text/plain": [
       "<Figure size 432x288 with 1 Axes>"
      ]
     },
     "metadata": {
      "needs_background": "light"
     },
     "output_type": "display_data"
    }
   ],
   "source": [
    "# plot various values from dataframe\n",
    "sp500_history_df[ticker][[\"Open\", \"High\", \"Low\"]].plot()\n",
    "plt.show()"
   ]
  },
  {
   "cell_type": "code",
   "execution_count": 30,
   "id": "6ad10f92",
   "metadata": {},
   "outputs": [],
   "source": [
    "# set seed, so we can get the same results after rerunning several times\n",
    "seed = 333\n",
    "np.random.seed(seed)\n",
    "tf.random.set_seed(seed)\n",
    "random.seed(seed)"
   ]
  },
  {
   "cell_type": "code",
   "execution_count": 31,
   "id": "3b1d530d",
   "metadata": {},
   "outputs": [],
   "source": [
    "# helper function for training with shuffled data\n",
    "def shuffle_in_unison(a, b):\n",
    "    # shuffle two arrays in the same way\n",
    "    state = np.random.get_state()\n",
    "    np.random.shuffle(a)\n",
    "    np.random.set_state(state)\n",
    "    np.random.shuffle(b)"
   ]
  },
  {
   "cell_type": "code",
   "execution_count": 32,
   "id": "1a1bdec8",
   "metadata": {},
   "outputs": [],
   "source": [
    "def load_data(ticker, n_steps=50, scale=True, shuffle=True, lookup_step=1, split_by_date=True,\n",
    "                test_size=0.2, feature_columns=['Close', 'Volume', 'Open', 'High', 'Low']):\n",
    "    \"\"\"\n",
    "    Loads data from Yahoo Finance source, as well as scaling, shuffling, normalizing and splitting.\n",
    "    Params:\n",
    "        ticker (str/pd.DataFrame): the ticker you want to load, examples include AAPL, TESL, etc.\n",
    "        n_steps (int): the historical sequence length (i.e window size) used to predict, default is 50\n",
    "        scale (bool): whether to scale prices from 0 to 1, default is True\n",
    "        shuffle (bool): whether to shuffle the dataset (both training & testing), default is True\n",
    "        lookup_step (int): the future lookup step to predict, default is 1 (e.g next day)\n",
    "        split_by_date (bool): whether we split the dataset into training/testing by date, setting it \n",
    "            to False will split datasets in a random way\n",
    "        test_size (float): ratio for test data, default is 0.2 (20% testing data)\n",
    "        feature_columns (list): the list of features to use to feed into the model, default is everything grabbed from yahoo_fin\n",
    "    \"\"\"\n",
    "    # see if ticker is already a loaded stock from yahoo finance\n",
    "    if isinstance(ticker, str):\n",
    "        # load it from yahoo_fin library\n",
    "        df = si.get_data(ticker)\n",
    "    elif isinstance(ticker, pd.DataFrame):\n",
    "        # already loaded, use it directly\n",
    "        df = ticker\n",
    "    else:\n",
    "        raise TypeError(\"ticker can be either a str or a `pd.DataFrame` instances\")\n",
    "    # this will contain all the elements we want to return from this function\n",
    "    result = {}\n",
    "    # we will also return the original dataframe itself\n",
    "    result['df'] = df.copy()\n",
    "    # make sure that the passed feature_columns exist in the dataframe\n",
    "    for col in feature_columns:\n",
    "        assert col in df.columns, f\"'{col}' does not exist in the dataframe.\"\n",
    "    # add date as a column\n",
    "    if \"date\" not in df.columns:\n",
    "        df[\"date\"] = df.index\n",
    "    if scale:\n",
    "        column_scaler = {}\n",
    "        # scale the data (prices) from 0 to 1\n",
    "        for column in feature_columns:\n",
    "            scaler = preprocessing.MinMaxScaler()\n",
    "            df[column] = scaler.fit_transform(np.expand_dims(df[column].values, axis=1))\n",
    "            column_scaler[column] = scaler\n",
    "        # add the MinMaxScaler instances to the result returned\n",
    "        result[\"column_scaler\"] = column_scaler\n",
    "    # add the target column (label) by shifting by `lookup_step`\n",
    "    df['future'] = df['Close'].shift(-lookup_step)\n",
    "    # last `lookup_step` columns contains NaN in future column\n",
    "    # get them before droping NaNs\n",
    "    last_sequence = np.array(df[feature_columns].tail(lookup_step))\n",
    "    # drop NaNs\n",
    "    df.dropna(inplace=True)\n",
    "    sequence_data = []\n",
    "    sequences = deque(maxlen=n_steps)\n",
    "    for entry, target in zip(df[feature_columns + [\"date\"]].values, df['future'].values):\n",
    "        sequences.append(entry)\n",
    "        if len(sequences) == n_steps:\n",
    "            sequence_data.append([np.array(sequences), target])\n",
    "    # get the last sequence by appending the last `n_step` sequence with `lookup_step` sequence\n",
    "    # for instance, if n_steps=50 and lookup_step=10, last_sequence should be of 60 (that is 50+10) length\n",
    "    # this last_sequence will be used to predict future stock prices that are not available in the dataset\n",
    "    last_sequence = list([s[:len(feature_columns)] for s in sequences]) + list(last_sequence)\n",
    "    last_sequence = np.array(last_sequence).astype(np.float32)\n",
    "    # add to result\n",
    "    result['last_sequence'] = last_sequence\n",
    "    # construct the X's and y's\n",
    "    X, y = [], []\n",
    "    for seq, target in sequence_data:\n",
    "        X.append(seq)\n",
    "        y.append(target)\n",
    "    # convert to numpy arrays\n",
    "    X = np.array(X)\n",
    "    y = np.array(y)\n",
    "    if split_by_date:\n",
    "        # split the dataset into training & testing sets by date (not randomly splitting)\n",
    "        train_samples = int((1 - test_size) * len(X))\n",
    "        result[\"X_train\"] = X[:train_samples]\n",
    "        result[\"y_train\"] = y[:train_samples]\n",
    "        result[\"X_test\"]  = X[train_samples:]\n",
    "        result[\"y_test\"]  = y[train_samples:]\n",
    "        if shuffle:\n",
    "            # shuffle the datasets for training (if shuffle parameter is set)\n",
    "            shuffle_in_unison(result[\"X_train\"], result[\"y_train\"])\n",
    "            shuffle_in_unison(result[\"X_test\"], result[\"y_test\"])\n",
    "    else:    \n",
    "        # split the dataset randomly\n",
    "        result[\"X_train\"], result[\"X_test\"], result[\"y_train\"], result[\"y_test\"] = train_test_split(X, y, \n",
    "                                                                                test_size=test_size, shuffle=shuffle)\n",
    "    # get the list of test set dates\n",
    "    dates = result[\"X_test\"][:, -1, -1]\n",
    "    # retrieve test features from the original dataframe\n",
    "    result[\"test_df\"] = result[\"df\"].loc[dates]\n",
    "    # remove duplicated dates in the testing dataframe\n",
    "    result[\"test_df\"] = result[\"test_df\"][~result[\"test_df\"].index.duplicated(keep='first')]\n",
    "    # remove dates from the training/testing sets & convert to float32\n",
    "    result[\"X_train\"] = result[\"X_train\"][:, :, :len(feature_columns)].astype(np.float32)\n",
    "    result[\"X_test\"] = result[\"X_test\"][:, :, :len(feature_columns)].astype(np.float32)\n",
    "    return result"
   ]
  },
  {
   "cell_type": "code",
   "execution_count": 33,
   "id": "ddf0a431",
   "metadata": {},
   "outputs": [],
   "source": [
    "def create_model(sequence_length, n_features, units=256, cell=LSTM, n_layers=2, dropout=0.3,\n",
    "                loss=\"mean_absolute_error\", optimizer=\"rmsprop\", bidirectional=False):\n",
    "    model = Sequential()\n",
    "    for i in range(n_layers):\n",
    "        if i == 0:\n",
    "            # first layer\n",
    "            if bidirectional:\n",
    "                model.add(Bidirectional(cell(units, return_sequences=True), batch_input_shape=(None, sequence_length, n_features)))\n",
    "            else:\n",
    "                model.add(cell(units, return_sequences=True, batch_input_shape=(None, sequence_length, n_features)))\n",
    "        elif i == n_layers - 1:\n",
    "            # last layer\n",
    "            if bidirectional:\n",
    "                model.add(Bidirectional(cell(units, return_sequences=False)))\n",
    "            else:\n",
    "                model.add(cell(units, return_sequences=False))\n",
    "        else:\n",
    "            # hidden layers\n",
    "            if bidirectional:\n",
    "                model.add(Bidirectional(cell(units, return_sequences=True)))\n",
    "            else:\n",
    "                model.add(cell(units, return_sequences=True))\n",
    "        # add dropout after each layer\n",
    "        model.add(Dropout(dropout))\n",
    "    model.add(Dense(1, activation=\"linear\"))\n",
    "    model.compile(loss=loss, metrics=[\"mean_absolute_error\"], optimizer=optimizer)\n",
    "    return model"
   ]
  },
  {
   "cell_type": "code",
   "execution_count": 34,
   "id": "7eae5bfe",
   "metadata": {},
   "outputs": [],
   "source": [
    "import os\n",
    "import time\n",
    "from tensorflow.keras.layers import LSTM\n",
    "\n",
    "# Window size or the sequence length\n",
    "N_STEPS = 100\n",
    "# Lookup step, 1 is the next day\n",
    "LOOKUP_STEP = 30\n",
    "# whether to scale feature columns & output price as well\n",
    "SCALE = True\n",
    "scale_str = f\"sc-{int(SCALE)}\"\n",
    "# whether to shuffle the dataset\n",
    "SHUFFLE = False\n",
    "shuffle_str = f\"sh-{int(SHUFFLE)}\"\n",
    "# whether to split the training/testing set by date\n",
    "SPLIT_BY_DATE = True\n",
    "split_by_date_str = f\"sbd-{int(SPLIT_BY_DATE)}\"\n",
    "# test ratio size, 0.2 is 20%\n",
    "TEST_SIZE = 0.2\n",
    "# features to use\n",
    "FEATURE_COLUMNS = ['Close', 'Volume', 'Open', 'High', 'Low']\n",
    "# date now\n",
    "date_now = time.strftime(\"%Y-%m-%d\")\n",
    "### model parameters\n",
    "N_LAYERS = 2\n",
    "# LSTM cell\n",
    "CELL = LSTM\n",
    "# 256 LSTM neurons\n",
    "UNITS = 256\n",
    "# 40% dropout\n",
    "DROPOUT = 0.4\n",
    "# whether to use bidirectional RNNs\n",
    "BIDIRECTIONAL = False\n",
    "### training parameters\n",
    "# mean absolute error loss\n",
    "# LOSS = \"mae\"\n",
    "# huber loss\n",
    "LOSS = \"huber_loss\"\n",
    "OPTIMIZER = \"adam\"\n",
    "BATCH_SIZE = 64\n",
    "EPOCHS = 10\n",
    "ticker_data_filename = os.path.join(\"data\", f\"{ticker}_{date_now}.csv\")\n",
    "# model name to save, making it as unique as possible based on parameters\n",
    "model_name = f\"{date_now}_{ticker}-{shuffle_str}-{scale_str}-{split_by_date_str}-\\\n",
    "{LOSS}-{OPTIMIZER}-{CELL.__name__}-seq-{N_STEPS}-step-{LOOKUP_STEP}-layers-{N_LAYERS}-units-{UNITS}\"\n",
    "if BIDIRECTIONAL:\n",
    "    model_name += \"-b\""
   ]
  },
  {
   "cell_type": "code",
   "execution_count": 35,
   "id": "11e584dd",
   "metadata": {},
   "outputs": [],
   "source": [
    "# create these folders if they does not exist\n",
    "if not os.path.isdir(\"results\"):\n",
    "    os.mkdir(\"results\")\n",
    "if not os.path.isdir(\"logs\"):\n",
    "    os.mkdir(\"logs\")\n",
    "if not os.path.isdir(\"data\"):\n",
    "    os.mkdir(\"data\")"
   ]
  },
  {
   "cell_type": "code",
   "execution_count": 36,
   "id": "5d69ba6d",
   "metadata": {},
   "outputs": [
    {
     "data": {
      "text/plain": [
       "{'df':                   Open        High         Low       Close   Volume  \\\n",
       " Date                                                                  \n",
       " 1962-01-02    1.879359    1.879359    1.858243    1.858243   390000   \n",
       " 1962-01-03    1.858241    1.874485    1.858241    1.874485   292500   \n",
       " 1962-01-04    1.874484    1.874484    1.854992    1.855805   262500   \n",
       " 1962-01-05    1.853368    1.853368    1.816008    1.819257   367500   \n",
       " 1962-01-08    1.817635    1.817635    1.770529    1.785148   547500   \n",
       " ...                ...         ...         ...         ...      ...   \n",
       " 2021-04-13  133.000000  133.619995  130.380005  131.179993  8033500   \n",
       " 2021-04-14  131.309998  132.779999  130.520004  132.630005  5868000   \n",
       " 2021-04-15  133.279999  133.869995  132.220001  132.580002  3884000   \n",
       " 2021-04-16  133.000000  134.100006  132.949997  133.589996  5290900   \n",
       " 2021-04-19  133.600006  133.800003  132.580002  133.050003  2506763   \n",
       " \n",
       "             Dividends  Stock Splits  \n",
       " Date                                 \n",
       " 1962-01-02        0.0           0.0  \n",
       " 1962-01-03        0.0           0.0  \n",
       " 1962-01-04        0.0           0.0  \n",
       " 1962-01-05        0.0           0.0  \n",
       " 1962-01-08        0.0           0.0  \n",
       " ...               ...           ...  \n",
       " 2021-04-13        0.0           0.0  \n",
       " 2021-04-14        0.0           0.0  \n",
       " 2021-04-15        0.0           0.0  \n",
       " 2021-04-16        0.0           0.0  \n",
       " 2021-04-19        0.0           0.0  \n",
       " \n",
       " [14926 rows x 7 columns],\n",
       " 'column_scaler': {'Close': MinMaxScaler(),\n",
       "  'Volume': MinMaxScaler(),\n",
       "  'Open': MinMaxScaler(),\n",
       "  'High': MinMaxScaler(),\n",
       "  'Low': MinMaxScaler()},\n",
       " 'last_sequence': array([[0.7741955 , 0.06674519, 0.78100145, 0.7801426 , 0.77491915],\n",
       "        [0.7612501 , 0.07784756, 0.77178043, 0.7733948 , 0.76268727],\n",
       "        [0.7664037 , 0.05371324, 0.7629283 , 0.77210665, 0.76682633],\n",
       "        [0.75996166, 0.04874814, 0.75647366, 0.7615555 , 0.7589188 ],\n",
       "        [0.76634234, 0.06782951, 0.76317424, 0.7689781 , 0.7639228 ],\n",
       "        [0.76382685, 0.10769288, 0.7731943 , 0.77462167, 0.7665174 ],\n",
       "        [0.71382445, 0.3096147 , 0.7301632 , 0.7304543 , 0.715613  ],\n",
       "        [0.69965196, 0.14047581, 0.7108606 , 0.7153638 , 0.7029487 ],\n",
       "        [0.70394665, 0.1131231 , 0.70065606, 0.70536476, 0.69176704],\n",
       "        [0.7054191 , 0.05606475, 0.7098771 , 0.7088001 , 0.70752025],\n",
       "        [0.6822278 , 0.10372858, 0.69727504, 0.6982489 , 0.6847244 ],\n",
       "        [0.67204326, 0.08547953, 0.6831363 , 0.6818089 , 0.6735428 ],\n",
       "        [0.64805436, 0.13575262, 0.6616822 , 0.66653436, 0.64815235],\n",
       "        [0.66192013, 0.09734652, 0.6530145 , 0.66598225, 0.65204436],\n",
       "        [0.6787921 , 0.11406918, 0.65701026, 0.6792325 , 0.6594576 ],\n",
       "        [0.68646115, 0.07648532, 0.6862099 , 0.6916852 , 0.6872573 ],\n",
       "        [0.6941302 , 0.0605417 , 0.69450873, 0.7028497 , 0.6957825 ],\n",
       "        [0.68026453, 0.08352114, 0.6842428 , 0.6921759 , 0.68052363],\n",
       "        [0.69787276, 0.07059142, 0.6902057 , 0.7006414 , 0.6919524 ],\n",
       "        [0.693394  , 0.0755882 , 0.7011479 , 0.6994758 , 0.69429994],\n",
       "        [0.7128136 , 0.1294872 , 0.72886807, 0.73859024, 0.71623987],\n",
       "        [0.72762734, 0.08096802, 0.72144675, 0.72881967, 0.7223819 ],\n",
       "        [0.72320807, 0.06177001, 0.73036486, 0.7299399 , 0.7221939 ],\n",
       "        [0.70640266, 0.09357373, 0.714836  , 0.7176177 , 0.70502144],\n",
       "        [0.7210296 , 0.06742919, 0.71209204, 0.7238411 , 0.71461046],\n",
       "        [0.7304282 , 0.07622468, 0.7314874 , 0.73118454, 0.72783446],\n",
       "        [0.7263202 , 0.05953658, 0.7271219 , 0.7311223 , 0.72752106],\n",
       "        [0.72053164, 0.06633767, 0.7278702 , 0.7332382 , 0.72551554],\n",
       "        [0.7230836 , 0.04953006, 0.7205112 , 0.7243389 , 0.7201256 ],\n",
       "        [0.7215898 , 0.07234965, 0.72712183, 0.72801065, 0.7251395 ],\n",
       "        [0.7411961 , 0.08136546, 0.7260617 , 0.74344444, 0.7287745 ],\n",
       "        [0.76814705, 0.11163559, 0.7474527 , 0.7696446 , 0.75096077],\n",
       "        [0.7667777 , 0.05955674, 0.76036215, 0.7671553 , 0.75910825],\n",
       "        [0.76771134, 0.03011317, 0.7682824 , 0.7732541 , 0.77038944],\n",
       "        [0.7625452 , 0.08622688, 0.76765877, 0.7713249 , 0.76525015],\n",
       "        [0.7603045 , 0.07649396, 0.7664115 , 0.7764902 , 0.7651875 ],\n",
       "        [0.7693919 , 0.05314589, 0.7598632 , 0.76908445, 0.7609885 ],\n",
       "        [0.76310545, 0.06549384, 0.76803297, 0.77045363, 0.7665037 ],\n",
       "        [0.7854504 , 0.07952803, 0.766848  , 0.7861363 , 0.7686972 ],\n",
       "        [0.76988983, 0.11978596, 0.78256387, 0.78358483, 0.7745258 ],\n",
       "        [0.7761763 , 0.07768771, 0.77526724, 0.7796019 , 0.7749645 ],\n",
       "        [0.7828985 , 0.09379406, 0.7782607 , 0.78806555, 0.7816078 ],\n",
       "        [0.7715081 , 0.06916583, 0.7816908 , 0.78333586, 0.7768447 ],\n",
       "        [0.7672134 , 0.06453192, 0.7675341 , 0.77449876, 0.7685092 ],\n",
       "        [0.76260746, 0.07271973, 0.77526724, 0.77904177, 0.76763177],\n",
       "        [0.77754563, 0.06277801, 0.76946735, 0.77711254, 0.7674438 ],\n",
       "        [0.77518046, 0.0652332 , 0.7790715 , 0.7810955 , 0.77903825],\n",
       "        [0.77518046, 0.054547  , 0.78000695, 0.7781083 , 0.77665675],\n",
       "        [0.7770477 , 0.10875992, 0.7769511 , 0.7800375 , 0.77703273],\n",
       "        [0.7617361 , 0.08806576, 0.766848  , 0.76622176, 0.756664  ],\n",
       "        [0.76310545, 0.06243961, 0.76273197, 0.76647073, 0.7609885 ],\n",
       "        [0.76491046, 0.03879202, 0.76628673, 0.77263176, 0.7693239 ],\n",
       "        [0.7698276 , 0.02535975, 0.77327156, 0.7719472 , 0.77226955],\n",
       "        [0.77063674, 0.05205869, 0.7738952 , 0.7812821 , 0.7738364 ],\n",
       "        [0.764288  , 0.05021261, 0.7754543 , 0.7743121 , 0.7661903 ],\n",
       "        [0.7676491 , 0.04867614, 0.76578784, 0.77039135, 0.7686345 ],\n",
       "        [0.7772344 , 0.05147117, 0.76840717, 0.7777349 , 0.7708907 ],\n",
       "        [0.7651594 , 0.07458021, 0.7785725 , 0.7770503 , 0.7649368 ],\n",
       "        [0.7788527 , 0.08804992, 0.77333397, 0.78178006, 0.7747765 ],\n",
       "        [0.798459  , 0.11457606, 0.7851208 , 0.8141413 , 0.78800046],\n",
       "        [0.7965918 , 0.06490632, 0.80470324, 0.80530417, 0.7976521 ],\n",
       "        [0.79372865, 0.06733703, 0.79553574, 0.7982096 , 0.78963   ],\n",
       "        [0.7940399 , 0.08067571, 0.7916691 , 0.80044997, 0.7938918 ],\n",
       "        [0.7979612 , 0.05398828, 0.79877865, 0.80150795, 0.7956466 ],\n",
       "        [0.7837076 , 0.11055847, 0.7991528 , 0.8008856 , 0.786371  ],\n",
       "        [0.7964673 , 0.10804568, 0.7921056 , 0.8034372 , 0.79320234],\n",
       "        [0.7928572 , 0.07063894, 0.7937271 , 0.79771173, 0.79395443],\n",
       "        [0.79677856, 0.07773092, 0.79996353, 0.79988986, 0.79658663],\n",
       "        [0.8033762 , 0.08062098, 0.80258286, 0.8090381 , 0.7995323 ],\n",
       "        [0.8131482 , 0.1845958 , 0.8052021 , 0.81638163, 0.8088706 ],\n",
       "        [0.73198426, 0.5481124 , 0.74645483, 0.74456465, 0.7293386 ],\n",
       "        [0.7317976 , 0.19708343, 0.73435616, 0.73734564, 0.7299026 ],\n",
       "        [0.7561342 , 0.15400311, 0.73697543, 0.7563267 , 0.7359819 ],\n",
       "        [0.7560098 , 0.17490895, 0.75506115, 0.770018  , 0.7560373 ],\n",
       "        [0.74113387, 0.11641061, 0.7595514 , 0.7601229 , 0.74632293],\n",
       "        [0.73509634, 0.1695205 , 0.7434613 , 0.74829865, 0.7389902 ],\n",
       "        [0.74399704, 0.09000687, 0.7414657 , 0.74612045, 0.7379248 ],\n",
       "        [0.7371504 , 0.09132303, 0.738098  , 0.74643165, 0.74137175],\n",
       "        [0.7351586 , 0.09670141, 0.73610234, 0.73896366, 0.7341017 ],\n",
       "        [0.7469846 , 0.065694  , 0.7415281 , 0.747054  , 0.7388022 ],\n",
       "        [0.7517773 , 0.0657156 , 0.74832577, 0.7514725 , 0.7491432 ],\n",
       "        [0.76310545, 0.08478688, 0.7584289 , 0.76497716, 0.76092577],\n",
       "        [0.7638623 , 0.06792455, 0.76409733, 0.76658446, 0.76260275],\n",
       "        [0.76474535, 0.07008166, 0.7712387 , 0.77169275, 0.7636189 ],\n",
       "        [0.75635654, 0.07748035, 0.7647293 , 0.76412493, 0.75993526],\n",
       "        [0.7556627 , 0.05571195, 0.7584095 , 0.75876445, 0.75650567],\n",
       "        [0.7510583 , 0.09561277, 0.7530377 , 0.7539715 , 0.75186944],\n",
       "        [0.75042754, 0.05701083, 0.7474763 , 0.7537193 , 0.7497101 ],\n",
       "        [0.7552212 , 0.07773235, 0.7552496 , 0.75611573, 0.7540288 ],\n",
       "        [0.74424624, 0.09473293, 0.75682956, 0.7549806 , 0.7456454 ],\n",
       "        [0.7560411 , 0.08466017, 0.74261004, 0.75731397, 0.7460265 ],\n",
       "        [0.755095  , 0.06525048, 0.75790393, 0.7587014 , 0.75466394],\n",
       "        [0.77086353, 0.08380769, 0.7571456 , 0.77219725, 0.75923663],\n",
       "        [0.7661961 , 0.08196162, 0.77338743, 0.7776208 , 0.7707955 ],\n",
       "        [0.7438678 , 0.13024609, 0.76630926, 0.76437724, 0.7488209 ],\n",
       "        [0.7552842 , 0.0822885 , 0.75430167, 0.76481867, 0.755045  ],\n",
       "        [0.7526982 , 0.06511944, 0.7567664 , 0.76216996, 0.7575854 ],\n",
       "        [0.7655022 , 0.10650489, 0.7552496 , 0.76677364, 0.7558071 ],\n",
       "        [0.7513106 , 0.11609381, 0.7647293 , 0.7704945 , 0.74805886],\n",
       "        [0.7684667 , 0.10000619, 0.7561344 , 0.7738369 , 0.75752187],\n",
       "        [0.7809554 , 0.10420666, 0.7709859 , 0.793387  , 0.7742251 ],\n",
       "        [0.7769817 , 0.08075778, 0.78621656, 0.7907383 , 0.7823545 ],\n",
       "        [0.8002561 , 0.10430602, 0.7840047 , 0.802153  , 0.78521246],\n",
       "        [0.7956516 , 0.07408772, 0.80321676, 0.8046756 , 0.7989942 ],\n",
       "        [0.7986161 , 0.05773803, 0.797529  , 0.79862136, 0.79791456],\n",
       "        [0.8047343 , 0.04925646, 0.8011944 , 0.80536926, 0.803821  ],\n",
       "        [0.80258983, 0.06667752, 0.80441755, 0.80391884, 0.8025508 ],\n",
       "        [0.8075726 , 0.06112489, 0.80555516, 0.8100361 , 0.80350345],\n",
       "        [0.8140692 , 0.08401793, 0.8085886 , 0.81955886, 0.8054088 ],\n",
       "        [0.8067526 , 0.14156012, 0.815414  , 0.8160272 , 0.81010854],\n",
       "        [0.8171599 , 0.05997434, 0.8058079 , 0.817793  , 0.80604386],\n",
       "        [0.8165923 , 0.06273193, 0.81806827, 0.82309043, 0.8181744 ],\n",
       "        [0.8176014 , 0.05767179, 0.8212913 , 0.826559  , 0.82306474],\n",
       "        [0.8330546 , 0.0799773 , 0.8173731 , 0.83368534, 0.81798387],\n",
       "        [0.8539321 , 0.0800997 , 0.8360796 , 0.8541183 , 0.8392598 ],\n",
       "        [0.8506522 , 0.06656664, 0.85307986, 0.85783917, 0.85443884],\n",
       "        [0.84346175, 0.06898151, 0.8523215 , 0.85279393, 0.8449758 ],\n",
       "        [0.8342529 , 0.07120918, 0.84397936, 0.8429559 , 0.836656  ],\n",
       "        [0.8340637 , 0.05866538, 0.83904994, 0.8380367 , 0.8338615 ],\n",
       "        [0.8510937 , 0.07878643, 0.8382916 , 0.85544264, 0.8410381 ],\n",
       "        [0.84030807, 0.05214221, 0.85055196, 0.84882087, 0.84542036],\n",
       "        [0.8447863 , 0.04285424, 0.8395555 , 0.84440637, 0.84345156],\n",
       "        [0.8459847 , 0.05885546, 0.844169  , 0.8487578 , 0.84586495],\n",
       "        [0.84983224, 0.04353824, 0.84606487, 0.84945154, 0.8493581 ],\n",
       "        [0.8426418 , 0.0540574 , 0.84701294, 0.8471181 , 0.84389615],\n",
       "        [0.8211335 , 0.11568198, 0.83424693, 0.83608174, 0.821858  ],\n",
       "        [0.83027935, 0.08449889, 0.8235665 , 0.8307843 , 0.8227472 ],\n",
       "        [0.8299639 , 0.05592939, 0.8360165 , 0.83765835, 0.8335439 ],\n",
       "        [0.83633435, 0.07618868, 0.83424693, 0.83910894, 0.8381802 ],\n",
       "        [0.8329284 , 0.03609725, 0.8380388 , 0.837217  , 0.8358303 ]],\n",
       "       dtype=float32),\n",
       " 'X_train': array([[[0.00544869, 0.00561598, 0.00559283, 0.0052634 , 0.00561022],\n",
       "         [0.00555114, 0.00421198, 0.00545937, 0.00523266, 0.00561022],\n",
       "         [0.00543332, 0.00377999, 0.00556202, 0.00523266, 0.00558958],\n",
       "         ...,\n",
       "         [0.00295154, 0.00572398, 0.00298813, 0.00266419, 0.00301324],\n",
       "         [0.00264409, 0.01447195, 0.00294705, 0.0026232 , 0.00278621],\n",
       "         [0.00223928, 0.04168785, 0.00264927, 0.00238752, 0.0023786 ]],\n",
       " \n",
       "        [[0.00555114, 0.00421198, 0.00545937, 0.00523266, 0.00561022],\n",
       "         [0.00543332, 0.00377999, 0.00556202, 0.00523266, 0.00558958],\n",
       "         [0.0052028 , 0.00529198, 0.00542857, 0.00509949, 0.00534199],\n",
       "         ...,\n",
       "         [0.00264409, 0.01447195, 0.00294705, 0.0026232 , 0.00278621],\n",
       "         [0.00223928, 0.04168785, 0.00264927, 0.00238752, 0.0023786 ],\n",
       "         [0.00188571, 0.05983178, 0.00224366, 0.0021416 , 0.00202259]],\n",
       " \n",
       "        [[0.00543332, 0.00377999, 0.00556202, 0.00523266, 0.00558958],\n",
       "         [0.0052028 , 0.00529198, 0.00542857, 0.00509949, 0.00534199],\n",
       "         [0.00498766, 0.00788397, 0.00520275, 0.00487414, 0.00505315],\n",
       "         ...,\n",
       "         [0.00223928, 0.04168785, 0.00264927, 0.00238752, 0.0023786 ],\n",
       "         [0.00188571, 0.05983178, 0.00224366, 0.0021416 , 0.00202259],\n",
       "         [0.00189595, 0.06199177, 0.0018894 , 0.00175222, 0.0018162 ]],\n",
       " \n",
       "        ...,\n",
       " \n",
       "        [[0.37920803, 0.13895229, 0.37077564, 0.383931  , 0.3695147 ],\n",
       "         [0.37298703, 0.12175299, 0.3738921 , 0.37697664, 0.3727771 ],\n",
       "         [0.37035173, 0.10413754, 0.37380546, 0.37412575, 0.36781812],\n",
       "         ...,\n",
       "         [0.44314715, 0.10252186, 0.45018527, 0.45254266, 0.44624922],\n",
       "         [0.45083174, 0.08823568, 0.4458104 , 0.45241168, 0.445238  ],\n",
       "         [0.45777413, 0.09895355, 0.45075402, 0.45834896, 0.45082152]],\n",
       " \n",
       "        [[0.37298703, 0.12175299, 0.3738921 , 0.37697664, 0.3727771 ],\n",
       "         [0.37035173, 0.10413754, 0.37380546, 0.37412575, 0.36781812],\n",
       "         [0.35963804, 0.10713992, 0.37051588, 0.3713614 , 0.36029273],\n",
       "         ...,\n",
       "         [0.45083174, 0.08823568, 0.4458104 , 0.45241168, 0.445238  ],\n",
       "         [0.45777413, 0.09895355, 0.45075402, 0.45834896, 0.45082152],\n",
       "         [0.4668997 , 0.11123959, 0.4615599 , 0.46782237, 0.46277997]],\n",
       " \n",
       "        [[0.37035173, 0.10413754, 0.37380546, 0.37412575, 0.36781812],\n",
       "         [0.35963804, 0.10713992, 0.37051588, 0.3713614 , 0.36029273],\n",
       "         [0.36400127, 0.11624645, 0.35978103, 0.36747387, 0.3610322 ],\n",
       "         ...,\n",
       "         [0.45777413, 0.09895355, 0.45075402, 0.45834896, 0.45082152],\n",
       "         [0.4668997 , 0.11123959, 0.4615599 , 0.46782237, 0.46277997],\n",
       "         [0.4601756 , 0.10145915, 0.4640535 , 0.4683899 , 0.46273598]]],\n",
       "       dtype=float32),\n",
       " 'y_train': array([0.00079938, 0.00090699, 0.00108121, ..., 0.44616   , 0.44454422,\n",
       "        0.46187833]),\n",
       " 'X_test': array([[[0.35963804, 0.10713992, 0.37051588, 0.3713614 , 0.36029273],\n",
       "         [0.36400127, 0.11624645, 0.35978103, 0.36747387, 0.3610322 ],\n",
       "         [0.36240286, 0.11026327, 0.3638066 , 0.3674307 , 0.3626417 ],\n",
       "         ...,\n",
       "         [0.4668997 , 0.11123959, 0.4615599 , 0.46782237, 0.46277997],\n",
       "         [0.4601756 , 0.10145915, 0.4640535 , 0.4683899 , 0.46273598],\n",
       "         [0.458691  , 0.11070679, 0.4597661 , 0.45878547, 0.45592138]],\n",
       " \n",
       "        [[0.36400127, 0.11624645, 0.35978103, 0.36747387, 0.3610322 ],\n",
       "         [0.36240286, 0.11026327, 0.3638066 , 0.3674307 , 0.3626417 ],\n",
       "         [0.35311475, 0.1363675 , 0.35817948, 0.35978532, 0.35098383],\n",
       "         ...,\n",
       "         [0.4601756 , 0.10145915, 0.4640535 , 0.4683899 , 0.46273598],\n",
       "         [0.458691  , 0.11070679, 0.4597661 , 0.45878547, 0.45592138],\n",
       "         [0.45799246, 0.07874611, 0.45819122, 0.45996425, 0.4580757 ]],\n",
       " \n",
       "        [[0.36240286, 0.11026327, 0.3638066 , 0.3674307 , 0.3626417 ],\n",
       "         [0.35311475, 0.1363675 , 0.35817948, 0.35978532, 0.35098383],\n",
       "         [0.3571324 , 0.1689805 , 0.35562566, 0.35982853, 0.3516363 ],\n",
       "         ...,\n",
       "         [0.458691  , 0.11070679, 0.4597661 , 0.45878547, 0.45592138],\n",
       "         [0.45799246, 0.07874611, 0.45819122, 0.45996425, 0.4580757 ],\n",
       "         [0.46196583, 0.11037559, 0.4632661 , 0.46664372, 0.46313173]],\n",
       " \n",
       "        ...,\n",
       " \n",
       "        [[0.80045444, 0.3641588 , 0.7981524 , 0.8246167 , 0.7954909 ],\n",
       "         [0.7777539 , 0.12029283, 0.80516034, 0.8031464 , 0.78208524],\n",
       "         [0.7741955 , 0.06674519, 0.78100145, 0.7801426 , 0.77491915],\n",
       "         ...,\n",
       "         [0.7552842 , 0.0822885 , 0.75430167, 0.76481867, 0.755045  ],\n",
       "         [0.7526982 , 0.06511944, 0.7567664 , 0.76216996, 0.7575854 ],\n",
       "         [0.7655022 , 0.10650489, 0.7552496 , 0.76677364, 0.7558071 ]],\n",
       " \n",
       "        [[0.7777539 , 0.12029283, 0.80516034, 0.8031464 , 0.78208524],\n",
       "         [0.7741955 , 0.06674519, 0.78100145, 0.7801426 , 0.77491915],\n",
       "         [0.7612501 , 0.07784756, 0.77178043, 0.7733948 , 0.76268727],\n",
       "         ...,\n",
       "         [0.7526982 , 0.06511944, 0.7567664 , 0.76216996, 0.7575854 ],\n",
       "         [0.7655022 , 0.10650489, 0.7552496 , 0.76677364, 0.7558071 ],\n",
       "         [0.7513106 , 0.11609381, 0.7647293 , 0.7704945 , 0.74805886]],\n",
       " \n",
       "        [[0.7741955 , 0.06674519, 0.78100145, 0.7801426 , 0.77491915],\n",
       "         [0.7612501 , 0.07784756, 0.77178043, 0.7733948 , 0.76268727],\n",
       "         [0.7664037 , 0.05371324, 0.7629283 , 0.77210665, 0.76682633],\n",
       "         ...,\n",
       "         [0.7655022 , 0.10650489, 0.7552496 , 0.76677364, 0.7558071 ],\n",
       "         [0.7513106 , 0.11609381, 0.7647293 , 0.7704945 , 0.74805886],\n",
       "         [0.7684667 , 0.10000619, 0.7561344 , 0.7738369 , 0.75752187]]],\n",
       "       dtype=float32),\n",
       " 'y_test': array([0.47681107, 0.49768178, 0.5021353 , ..., 0.82996393, 0.83633438,\n",
       "        0.83292842]),\n",
       " 'test_df':                   Open        High         Low       Close   Volume  \\\n",
       " Date                                                                  \n",
       " 2009-06-03   73.744678   73.793135   72.761694   73.716988  7688000   \n",
       " 2009-06-04   73.495478   73.980051   73.100899   73.606239  5468500   \n",
       " 2009-06-05   74.298495   75.039196   73.896993   74.236191  7665000   \n",
       " 2009-06-08   73.820812   74.748421   73.031655   74.409218  6363800   \n",
       " 2009-06-09   74.866123   75.551443   74.755362   74.859200  8585900   \n",
       " ...                ...         ...         ...         ...      ...   \n",
       " 2021-03-01  120.349998  122.320000  119.860001  120.739998  5714500   \n",
       " 2021-03-02  120.739998  121.900002  120.260002  120.330002  4522200   \n",
       " 2021-03-03  120.500000  122.629997  119.980003  122.360001  7396200   \n",
       " 2021-03-04  122.000000  123.220001  118.760002  120.110001  8062100   \n",
       " 2021-03-05  120.639999  123.750000  120.250000  122.830002  6944900   \n",
       " \n",
       "             Dividends  Stock Splits  \n",
       " Date                                 \n",
       " 2009-06-03        0.0           0.0  \n",
       " 2009-06-04        0.0           0.0  \n",
       " 2009-06-05        0.0           0.0  \n",
       " 2009-06-08        0.0           0.0  \n",
       " 2009-06-09        0.0           0.0  \n",
       " ...               ...           ...  \n",
       " 2021-03-01        0.0           0.0  \n",
       " 2021-03-02        0.0           0.0  \n",
       " 2021-03-03        0.0           0.0  \n",
       " 2021-03-04        0.0           0.0  \n",
       " 2021-03-05        0.0           0.0  \n",
       " \n",
       " [2960 rows x 7 columns]}"
      ]
     },
     "execution_count": 36,
     "metadata": {},
     "output_type": "execute_result"
    }
   ],
   "source": [
    "data = load_data(sp500_history_df[ticker], N_STEPS, scale=SCALE, split_by_date=SPLIT_BY_DATE, \n",
    "                shuffle=SHUFFLE, lookup_step=LOOKUP_STEP, test_size=TEST_SIZE, \n",
    "                feature_columns=FEATURE_COLUMNS)\n",
    "data"
   ]
  },
  {
   "cell_type": "raw",
   "id": "58278e9a",
   "metadata": {},
   "source": [
    "#save the dataframe\n",
    "data[\"df\"].to_csv(ticker_data_filename)\n",
    "# construct the model\n",
    "model = create_model(N_STEPS, len(FEATURE_COLUMNS), loss=LOSS, units=UNITS, cell=CELL, n_layers=N_LAYERS,\n",
    "                    dropout=DROPOUT, optimizer=OPTIMIZER, bidirectional=BIDIRECTIONAL)\n",
    "# some tensorflow callbacks\n",
    "checkpointer = ModelCheckpoint(os.path.join(\"results\", model_name + \".h5\"), save_weights_only=True, save_best_only=True, verbose=1)\n",
    "tensorboard = TensorBoard(log_dir=os.path.join(\"logs\", model_name))\n",
    "# train the model and save the weights whenever we see \n",
    "# a new optimal model using ModelCheckpoint\n",
    "history = model.fit(data[\"X_train\"], \n",
    "                    data[\"y_train\"],\n",
    "                    batch_size=BATCH_SIZE,\n",
    "                    epochs=EPOCHS,\n",
    "                    validation_data=(data[\"X_test\"], data[\"y_test\"]),\n",
    "                    callbacks=[checkpointer, tensorboard],\n",
    "                    verbose=1)"
   ]
  },
  {
   "cell_type": "code",
   "execution_count": 77,
   "id": "e31a3334",
   "metadata": {},
   "outputs": [],
   "source": [
    "#!tensorboard --logdir=\"logs\""
   ]
  },
  {
   "cell_type": "code",
   "execution_count": 40,
   "id": "17e51f69",
   "metadata": {},
   "outputs": [],
   "source": [
    "import matplotlib.pyplot as plt\n",
    "\n",
    "def plot_graph(test_df):\n",
    "    \"\"\"\n",
    "    This function plots true close price along with predicted close price\n",
    "    with blue and red colors respectively\n",
    "    \"\"\"\n",
    "    plt.plot(test_df[f'true_close_{LOOKUP_STEP}'], c='b')\n",
    "    plt.plot(test_df[f'close_{LOOKUP_STEP}'], c='r')\n",
    "    plt.xlabel(\"Days\")\n",
    "    plt.ylabel(\"Price\")\n",
    "    plt.legend([\"Actual Price\", \"Predicted Price\"])\n",
    "    plt.show()"
   ]
  },
  {
   "cell_type": "code",
   "execution_count": 41,
   "id": "8bf409d2",
   "metadata": {},
   "outputs": [],
   "source": [
    "def get_final_df(model, data):\n",
    "    \"\"\"\n",
    "    This function takes the `model` and `data` dict to \n",
    "    construct a final dataframe that includes the features along \n",
    "    with true and predicted prices of the testing dataset\n",
    "    \"\"\"\n",
    "    # if predicted future price is higher than the current, \n",
    "    # then calculate the true future price minus the current price, to get the buy profit\n",
    "    buy_profit  = lambda current, true_future, pred_future: true_future - current if pred_future > current else 0\n",
    "    # if the predicted future price is lower than the current price,\n",
    "    # then subtract the true future price from the current price\n",
    "    sell_profit = lambda current, true_future, pred_future: current - true_future if pred_future < current else 0\n",
    "    X_test = data[\"X_test\"]\n",
    "    y_test = data[\"y_test\"]\n",
    "    # perform prediction and get prices\n",
    "    y_pred = model.predict(X_test)\n",
    "    if SCALE:\n",
    "        y_test = np.squeeze(data[\"column_scaler\"][\"Close\"].inverse_transform(np.expand_dims(y_test, axis=0)))\n",
    "        y_pred = np.squeeze(data[\"column_scaler\"][\"Close\"].inverse_transform(y_pred))\n",
    "    test_df = data[\"test_df\"]\n",
    "    # add predicted future prices to the dataframe\n",
    "    test_df[f\"close_{LOOKUP_STEP}\"] = y_pred\n",
    "    # add true future prices to the dataframe\n",
    "    test_df[f\"true_close_{LOOKUP_STEP}\"] = y_test\n",
    "    # sort the dataframe by date\n",
    "    test_df.sort_index(inplace=True)\n",
    "    final_df = test_df\n",
    "    # add the buy profit column\n",
    "    final_df[\"buy_profit\"] = list(map(buy_profit, \n",
    "                                    final_df[\"Close\"], \n",
    "                                    final_df[f\"close_{LOOKUP_STEP}\"], \n",
    "                                    final_df[f\"true_close_{LOOKUP_STEP}\"])\n",
    "                                    # since we don't have profit for last sequence, add 0's\n",
    "                                    )\n",
    "    # add the sell profit column\n",
    "    final_df[\"sell_profit\"] = list(map(sell_profit, \n",
    "                                    final_df[\"Close\"], \n",
    "                                    final_df[f\"close_{LOOKUP_STEP}\"], \n",
    "                                    final_df[f\"true_close_{LOOKUP_STEP}\"])\n",
    "                                    # since we don't have profit for last sequence, add 0's\n",
    "                                    )\n",
    "    return final_df"
   ]
  },
  {
   "cell_type": "code",
   "execution_count": 42,
   "id": "c1b68561",
   "metadata": {},
   "outputs": [],
   "source": [
    "def predict(model, data):\n",
    "    # retrieve the last sequence from data\n",
    "    last_sequence = data[\"last_sequence\"][-N_STEPS:]\n",
    "    # expand dimension\n",
    "    last_sequence = np.expand_dims(last_sequence, axis=0)\n",
    "    # get the prediction (scaled from 0 to 1)\n",
    "    prediction = model.predict(last_sequence)\n",
    "    # get the price (by inverting the scaling)\n",
    "    if SCALE:\n",
    "        predicted_price = data[\"column_scaler\"][\"Close\"].inverse_transform(prediction)[0][0]\n",
    "    else:\n",
    "        predicted_price = prediction[0][0]\n",
    "    return predicted_price"
   ]
  },
  {
   "cell_type": "code",
   "execution_count": 43,
   "id": "572babe7",
   "metadata": {},
   "outputs": [],
   "source": [
    "# load optimal model weights from results folder\n",
    "model_path = os.path.join(\"results\", model_name) + \".h5\"\n",
    "model.load_weights(model_path)"
   ]
  },
  {
   "cell_type": "code",
   "execution_count": 44,
   "id": "f5959f79",
   "metadata": {},
   "outputs": [],
   "source": [
    "# evaluate the model\n",
    "loss, mae = model.evaluate(data[\"X_test\"], data[\"y_test\"], verbose=0)\n",
    "# calculate the mean absolute error (inverse scaling)\n",
    "if SCALE:\n",
    "    mean_absolute_error = data[\"column_scaler\"][\"Close\"].inverse_transform([[mae]])[0][0]\n",
    "else:\n",
    "    mean_absolute_error = mae"
   ]
  },
  {
   "cell_type": "code",
   "execution_count": 45,
   "id": "8a88b50e",
   "metadata": {},
   "outputs": [
    {
     "data": {
      "text/html": [
       "<div>\n",
       "<style scoped>\n",
       "    .dataframe tbody tr th:only-of-type {\n",
       "        vertical-align: middle;\n",
       "    }\n",
       "\n",
       "    .dataframe tbody tr th {\n",
       "        vertical-align: top;\n",
       "    }\n",
       "\n",
       "    .dataframe thead th {\n",
       "        text-align: right;\n",
       "    }\n",
       "</style>\n",
       "<table border=\"1\" class=\"dataframe\">\n",
       "  <thead>\n",
       "    <tr style=\"text-align: right;\">\n",
       "      <th></th>\n",
       "      <th>Open</th>\n",
       "      <th>High</th>\n",
       "      <th>Low</th>\n",
       "      <th>Close</th>\n",
       "      <th>Volume</th>\n",
       "      <th>Dividends</th>\n",
       "      <th>Stock Splits</th>\n",
       "      <th>close_30</th>\n",
       "      <th>true_close_30</th>\n",
       "      <th>buy_profit</th>\n",
       "      <th>sell_profit</th>\n",
       "    </tr>\n",
       "    <tr>\n",
       "      <th>Date</th>\n",
       "      <th></th>\n",
       "      <th></th>\n",
       "      <th></th>\n",
       "      <th></th>\n",
       "      <th></th>\n",
       "      <th></th>\n",
       "      <th></th>\n",
       "      <th></th>\n",
       "      <th></th>\n",
       "      <th></th>\n",
       "      <th></th>\n",
       "    </tr>\n",
       "  </thead>\n",
       "  <tbody>\n",
       "    <tr>\n",
       "      <th>2009-06-03</th>\n",
       "      <td>73.744678</td>\n",
       "      <td>73.793135</td>\n",
       "      <td>72.761694</td>\n",
       "      <td>73.716988</td>\n",
       "      <td>7688000</td>\n",
       "      <td>0.0</td>\n",
       "      <td>0.0</td>\n",
       "      <td>71.155365</td>\n",
       "      <td>76.589813</td>\n",
       "      <td>-2.561623</td>\n",
       "      <td>0.0</td>\n",
       "    </tr>\n",
       "    <tr>\n",
       "      <th>2009-06-04</th>\n",
       "      <td>73.495478</td>\n",
       "      <td>73.980051</td>\n",
       "      <td>73.100899</td>\n",
       "      <td>73.606239</td>\n",
       "      <td>5468500</td>\n",
       "      <td>0.0</td>\n",
       "      <td>0.0</td>\n",
       "      <td>71.362228</td>\n",
       "      <td>79.898735</td>\n",
       "      <td>-2.244011</td>\n",
       "      <td>0.0</td>\n",
       "    </tr>\n",
       "    <tr>\n",
       "      <th>2009-06-05</th>\n",
       "      <td>74.298495</td>\n",
       "      <td>75.039196</td>\n",
       "      <td>73.896993</td>\n",
       "      <td>74.236191</td>\n",
       "      <td>7665000</td>\n",
       "      <td>0.0</td>\n",
       "      <td>0.0</td>\n",
       "      <td>71.585022</td>\n",
       "      <td>80.604813</td>\n",
       "      <td>-2.651169</td>\n",
       "      <td>0.0</td>\n",
       "    </tr>\n",
       "    <tr>\n",
       "      <th>2009-06-08</th>\n",
       "      <td>73.820812</td>\n",
       "      <td>74.748421</td>\n",
       "      <td>73.031655</td>\n",
       "      <td>74.409218</td>\n",
       "      <td>6363800</td>\n",
       "      <td>0.0</td>\n",
       "      <td>0.0</td>\n",
       "      <td>71.758789</td>\n",
       "      <td>81.020172</td>\n",
       "      <td>-2.650429</td>\n",
       "      <td>0.0</td>\n",
       "    </tr>\n",
       "    <tr>\n",
       "      <th>2009-06-09</th>\n",
       "      <td>74.866123</td>\n",
       "      <td>75.551443</td>\n",
       "      <td>74.755362</td>\n",
       "      <td>74.859200</td>\n",
       "      <td>8585900</td>\n",
       "      <td>0.0</td>\n",
       "      <td>0.0</td>\n",
       "      <td>71.981102</td>\n",
       "      <td>80.002571</td>\n",
       "      <td>-2.878098</td>\n",
       "      <td>0.0</td>\n",
       "    </tr>\n",
       "    <tr>\n",
       "      <th>...</th>\n",
       "      <td>...</td>\n",
       "      <td>...</td>\n",
       "      <td>...</td>\n",
       "      <td>...</td>\n",
       "      <td>...</td>\n",
       "      <td>...</td>\n",
       "      <td>...</td>\n",
       "      <td>...</td>\n",
       "      <td>...</td>\n",
       "      <td>...</td>\n",
       "      <td>...</td>\n",
       "    </tr>\n",
       "    <tr>\n",
       "      <th>2021-03-01</th>\n",
       "      <td>120.349998</td>\n",
       "      <td>122.320000</td>\n",
       "      <td>119.860001</td>\n",
       "      <td>120.739998</td>\n",
       "      <td>5714500</td>\n",
       "      <td>0.0</td>\n",
       "      <td>0.0</td>\n",
       "      <td>108.779579</td>\n",
       "      <td>131.179993</td>\n",
       "      <td>-11.960419</td>\n",
       "      <td>0.0</td>\n",
       "    </tr>\n",
       "    <tr>\n",
       "      <th>2021-03-02</th>\n",
       "      <td>120.739998</td>\n",
       "      <td>121.900002</td>\n",
       "      <td>120.260002</td>\n",
       "      <td>120.330002</td>\n",
       "      <td>4522200</td>\n",
       "      <td>0.0</td>\n",
       "      <td>0.0</td>\n",
       "      <td>108.784050</td>\n",
       "      <td>132.630005</td>\n",
       "      <td>-11.545952</td>\n",
       "      <td>0.0</td>\n",
       "    </tr>\n",
       "    <tr>\n",
       "      <th>2021-03-03</th>\n",
       "      <td>120.500000</td>\n",
       "      <td>122.629997</td>\n",
       "      <td>119.980003</td>\n",
       "      <td>122.360001</td>\n",
       "      <td>7396200</td>\n",
       "      <td>0.0</td>\n",
       "      <td>0.0</td>\n",
       "      <td>108.821167</td>\n",
       "      <td>132.580002</td>\n",
       "      <td>-13.538834</td>\n",
       "      <td>0.0</td>\n",
       "    </tr>\n",
       "    <tr>\n",
       "      <th>2021-03-04</th>\n",
       "      <td>122.000000</td>\n",
       "      <td>123.220001</td>\n",
       "      <td>118.760002</td>\n",
       "      <td>120.110001</td>\n",
       "      <td>8062100</td>\n",
       "      <td>0.0</td>\n",
       "      <td>0.0</td>\n",
       "      <td>108.854897</td>\n",
       "      <td>133.589996</td>\n",
       "      <td>-11.255104</td>\n",
       "      <td>0.0</td>\n",
       "    </tr>\n",
       "    <tr>\n",
       "      <th>2021-03-05</th>\n",
       "      <td>120.639999</td>\n",
       "      <td>123.750000</td>\n",
       "      <td>120.250000</td>\n",
       "      <td>122.830002</td>\n",
       "      <td>6944900</td>\n",
       "      <td>0.0</td>\n",
       "      <td>0.0</td>\n",
       "      <td>108.927017</td>\n",
       "      <td>133.050003</td>\n",
       "      <td>-13.902985</td>\n",
       "      <td>0.0</td>\n",
       "    </tr>\n",
       "  </tbody>\n",
       "</table>\n",
       "<p>2960 rows × 11 columns</p>\n",
       "</div>"
      ],
      "text/plain": [
       "                  Open        High         Low       Close   Volume  \\\n",
       "Date                                                                  \n",
       "2009-06-03   73.744678   73.793135   72.761694   73.716988  7688000   \n",
       "2009-06-04   73.495478   73.980051   73.100899   73.606239  5468500   \n",
       "2009-06-05   74.298495   75.039196   73.896993   74.236191  7665000   \n",
       "2009-06-08   73.820812   74.748421   73.031655   74.409218  6363800   \n",
       "2009-06-09   74.866123   75.551443   74.755362   74.859200  8585900   \n",
       "...                ...         ...         ...         ...      ...   \n",
       "2021-03-01  120.349998  122.320000  119.860001  120.739998  5714500   \n",
       "2021-03-02  120.739998  121.900002  120.260002  120.330002  4522200   \n",
       "2021-03-03  120.500000  122.629997  119.980003  122.360001  7396200   \n",
       "2021-03-04  122.000000  123.220001  118.760002  120.110001  8062100   \n",
       "2021-03-05  120.639999  123.750000  120.250000  122.830002  6944900   \n",
       "\n",
       "            Dividends  Stock Splits    close_30  true_close_30  buy_profit  \\\n",
       "Date                                                                         \n",
       "2009-06-03        0.0           0.0   71.155365      76.589813   -2.561623   \n",
       "2009-06-04        0.0           0.0   71.362228      79.898735   -2.244011   \n",
       "2009-06-05        0.0           0.0   71.585022      80.604813   -2.651169   \n",
       "2009-06-08        0.0           0.0   71.758789      81.020172   -2.650429   \n",
       "2009-06-09        0.0           0.0   71.981102      80.002571   -2.878098   \n",
       "...               ...           ...         ...            ...         ...   \n",
       "2021-03-01        0.0           0.0  108.779579     131.179993  -11.960419   \n",
       "2021-03-02        0.0           0.0  108.784050     132.630005  -11.545952   \n",
       "2021-03-03        0.0           0.0  108.821167     132.580002  -13.538834   \n",
       "2021-03-04        0.0           0.0  108.854897     133.589996  -11.255104   \n",
       "2021-03-05        0.0           0.0  108.927017     133.050003  -13.902985   \n",
       "\n",
       "            sell_profit  \n",
       "Date                     \n",
       "2009-06-03          0.0  \n",
       "2009-06-04          0.0  \n",
       "2009-06-05          0.0  \n",
       "2009-06-08          0.0  \n",
       "2009-06-09          0.0  \n",
       "...                 ...  \n",
       "2021-03-01          0.0  \n",
       "2021-03-02          0.0  \n",
       "2021-03-03          0.0  \n",
       "2021-03-04          0.0  \n",
       "2021-03-05          0.0  \n",
       "\n",
       "[2960 rows x 11 columns]"
      ]
     },
     "execution_count": 45,
     "metadata": {},
     "output_type": "execute_result"
    }
   ],
   "source": [
    "# get the final dataframe for the testing set\n",
    "final_df = get_final_df(model, data)\n",
    "final_df"
   ]
  },
  {
   "cell_type": "code",
   "execution_count": 46,
   "id": "979c6d7d",
   "metadata": {},
   "outputs": [
    {
     "data": {
      "text/plain": [
       "117.23396"
      ]
     },
     "execution_count": 46,
     "metadata": {},
     "output_type": "execute_result"
    }
   ],
   "source": [
    "# predict the future price\n",
    "future_price = predict(model, data)\n",
    "future_price"
   ]
  },
  {
   "cell_type": "code",
   "execution_count": 47,
   "id": "b57eeaf9",
   "metadata": {},
   "outputs": [],
   "source": [
    "# we calculate the accuracy by counting the number of positive profits\n",
    "accuracy_score = (len(final_df[final_df['sell_profit'] > 0]) + len(final_df[final_df['buy_profit'] > 0])) / len(final_df)\n",
    "# calculating total buy & sell profit\n",
    "total_buy_profit  = final_df[\"buy_profit\"].sum()\n",
    "total_sell_profit = final_df[\"sell_profit\"].sum()\n",
    "# total profit by adding sell & buy together\n",
    "total_profit = total_buy_profit + total_sell_profit\n",
    "# dividing total profit by number of testing samples (number of trades)\n",
    "profit_per_trade = total_profit / len(final_df)"
   ]
  },
  {
   "cell_type": "code",
   "execution_count": 48,
   "id": "7bd67187",
   "metadata": {},
   "outputs": [
    {
     "name": "stdout",
     "output_type": "stream",
     "text": [
      "Future price after 30 days is 117.23$\n",
      "huber_loss loss: 0.005462737346533686\n",
      "Mean Absolute Error: 15.826653102805235\n",
      "Accuracy score: 0.43614864864864866\n",
      "Total buy profit: -20687.316413879395\n",
      "Total sell profit: 19986.701454162598\n",
      "Total profit: -700.6149597167969\n",
      "Profit per trade: -0.2366942431475665\n"
     ]
    }
   ],
   "source": [
    "# printing metrics\n",
    "print(f\"Future price after {LOOKUP_STEP} days is {future_price:.2f}$\")\n",
    "print(f\"{LOSS} loss:\", loss)\n",
    "print(\"Mean Absolute Error:\", mean_absolute_error)\n",
    "print(\"Accuracy score:\", accuracy_score)\n",
    "print(\"Total buy profit:\", total_buy_profit)\n",
    "print(\"Total sell profit:\", total_sell_profit)\n",
    "print(\"Total profit:\", total_profit)\n",
    "print(\"Profit per trade:\", profit_per_trade)"
   ]
  },
  {
   "cell_type": "code",
   "execution_count": 49,
   "id": "064cda06",
   "metadata": {},
   "outputs": [
    {
     "data": {
      "image/png": "[encoded data removed]",
      "text/plain": [
       "<Figure size 432x288 with 1 Axes>"
      ]
     },
     "metadata": {
      "needs_background": "light"
     },
     "output_type": "display_data"
    }
   ],
   "source": [
    "plot_graph(final_df)"
   ]
  }
 ],
 "metadata": {
  "kernelspec": {
   "display_name": "Python 3",
   "language": "python",
   "name": "python3"
  },
  "language_info": {
   "codemirror_mode": {
    "name": "ipython",
    "version": 3
   },
   "file_extension": ".py",
   "mimetype": "text/x-python",
   "name": "python",
   "nbconvert_exporter": "python",
   "pygments_lexer": "ipython3",
   "version": "3.8.8"
  }
 },
 "nbformat": 4,
 "nbformat_minor": 5
}
